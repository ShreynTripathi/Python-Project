{
 "cells": [
  {
   "cell_type": "code",
   "execution_count": 1,
   "id": "a8c109da-bceb-444f-93b0-1d6f147a3d90",
   "metadata": {},
   "outputs": [
    {
     "data": {
      "text/html": [
       "<div>\n",
       "<style scoped>\n",
       "    .dataframe tbody tr th:only-of-type {\n",
       "        vertical-align: middle;\n",
       "    }\n",
       "\n",
       "    .dataframe tbody tr th {\n",
       "        vertical-align: top;\n",
       "    }\n",
       "\n",
       "    .dataframe thead th {\n",
       "        text-align: right;\n",
       "    }\n",
       "</style>\n",
       "<table border=\"1\" class=\"dataframe\">\n",
       "  <thead>\n",
       "    <tr style=\"text-align: right;\">\n",
       "      <th></th>\n",
       "      <th>S_No</th>\n",
       "      <th>PLAYERS</th>\n",
       "      <th>NATIONALITY</th>\n",
       "      <th>TYPE</th>\n",
       "      <th>PRICE</th>\n",
       "      <th>TEAM</th>\n",
       "    </tr>\n",
       "  </thead>\n",
       "  <tbody>\n",
       "    <tr>\n",
       "      <th>0</th>\n",
       "      <td>0</td>\n",
       "      <td>Avanish Rao Aravelly</td>\n",
       "      <td>Indian</td>\n",
       "      <td>Wicket-Keeper</td>\n",
       "      <td>2000000</td>\n",
       "      <td>CSK</td>\n",
       "    </tr>\n",
       "    <tr>\n",
       "      <th>1</th>\n",
       "      <td>1</td>\n",
       "      <td>Mustafizur Rahman</td>\n",
       "      <td>Overseas</td>\n",
       "      <td>Bowler</td>\n",
       "      <td>20000000</td>\n",
       "      <td>CSK</td>\n",
       "    </tr>\n",
       "    <tr>\n",
       "      <th>2</th>\n",
       "      <td>2</td>\n",
       "      <td>Daryl Mitchell</td>\n",
       "      <td>Overseas</td>\n",
       "      <td>All-Rounder</td>\n",
       "      <td>140000000</td>\n",
       "      <td>CSK</td>\n",
       "    </tr>\n",
       "    <tr>\n",
       "      <th>3</th>\n",
       "      <td>3</td>\n",
       "      <td>Sameer Rizvi</td>\n",
       "      <td>Indian</td>\n",
       "      <td>Batter</td>\n",
       "      <td>84000000</td>\n",
       "      <td>CSK</td>\n",
       "    </tr>\n",
       "    <tr>\n",
       "      <th>4</th>\n",
       "      <td>4</td>\n",
       "      <td>Rachin Ravindra</td>\n",
       "      <td>Overseas</td>\n",
       "      <td>All-Rounder</td>\n",
       "      <td>18000000</td>\n",
       "      <td>CSK</td>\n",
       "    </tr>\n",
       "  </tbody>\n",
       "</table>\n",
       "</div>"
      ],
      "text/plain": [
       "   S_No               PLAYERS NATIONALITY           TYPE      PRICE TEAM\n",
       "0     0  Avanish Rao Aravelly      Indian  Wicket-Keeper    2000000  CSK\n",
       "1     1     Mustafizur Rahman    Overseas         Bowler   20000000  CSK\n",
       "2     2        Daryl Mitchell    Overseas    All-Rounder  140000000  CSK\n",
       "3     3          Sameer Rizvi      Indian         Batter   84000000  CSK\n",
       "4     4       Rachin Ravindra    Overseas    All-Rounder   18000000  CSK"
      ]
     },
     "execution_count": 1,
     "metadata": {},
     "output_type": "execute_result"
    }
   ],
   "source": [
    "import pandas as pd\n",
    "df = pd.read_excel(\"C:\\\\Users\\\\sivashree\\\\Desktop\\\\Skillslash\\\\Project by Vikas\\\\Python Project\\\\IPL 2024 SOLD PLAYER DATA ANALYSIS.xlsx\")\n",
    "df.head()"
   ]
  },
  {
   "cell_type": "markdown",
   "id": "e0c5ed36-97cc-469a-821b-679a8309d9c6",
   "metadata": {},
   "source": [
    "Project 1 (basic Python)"
   ]
  },
  {
   "cell_type": "markdown",
   "id": "9ab1c9d3-f02c-4266-a6ba-85ad2123afa9",
   "metadata": {},
   "source": [
    "Basic Data Exploration"
   ]
  },
  {
   "cell_type": "markdown",
   "id": "4bbb8129-607b-4194-b344-578fe8d3f1a3",
   "metadata": {},
   "source": [
    "1.\tHow many players are there in total?"
   ]
  },
  {
   "cell_type": "code",
   "execution_count": 3,
   "id": "601a47d6-d1bb-4080-ab8f-d2af5754937f",
   "metadata": {},
   "outputs": [
    {
     "name": "stdout",
     "output_type": "stream",
     "text": [
      "Total number of players: 332\n"
     ]
    }
   ],
   "source": [
    "# Total number of players\n",
    "total_players = len(df)\n",
    "print(\"Total number of players:\", total_players)"
   ]
  },
  {
   "cell_type": "markdown",
   "id": "133c91c2-eb38-427f-a4ad-3cb6dad75133",
   "metadata": {},
   "source": [
    "2.\tHow many players are Indian vs Overseas?"
   ]
  },
  {
   "cell_type": "code",
   "execution_count": 4,
   "id": "4645e110-7a58-48f7-a672-450596a37c87",
   "metadata": {},
   "outputs": [
    {
     "name": "stdout",
     "output_type": "stream",
     "text": [
      "Nationality Breakdown:\n",
      " NATIONALITY\n",
      "Indian      216\n",
      "Overseas    116\n",
      "Name: count, dtype: int64\n"
     ]
    }
   ],
   "source": [
    "# Count of Indian vs Overseas players\n",
    "nationality_count = df['NATIONALITY'].value_counts()\n",
    "print(\"Nationality Breakdown:\\n\", nationality_count)"
   ]
  },
  {
   "cell_type": "markdown",
   "id": "00055222-15c8-421b-8bc8-59577f51a8a3",
   "metadata": {},
   "source": [
    "3.\tWhat is the average price of all players?"
   ]
  },
  {
   "cell_type": "code",
   "execution_count": 5,
   "id": "de55a3c0-8a15-4659-85fd-06f418487dd9",
   "metadata": {},
   "outputs": [
    {
     "name": "stdout",
     "output_type": "stream",
     "text": [
      "Average Price of Players: ₹10,093,373\n"
     ]
    }
   ],
   "source": [
    "# Average price of all players\n",
    "average_price = df['PRICE'].mean()\n",
    "print(\"Average Price of Players: ₹{:,.0f}\".format(average_price))"
   ]
  },
  {
   "cell_type": "markdown",
   "id": "1e1b7d5f-ce34-489a-9ecb-81fc5d65e5ef",
   "metadata": {},
   "source": [
    "4.List all unique player types (e.g., Wicket-Keeper, Bowler)."
   ]
  },
  {
   "cell_type": "code",
   "execution_count": 6,
   "id": "6bc8c409-fc26-4193-9ec1-f2be432be638",
   "metadata": {},
   "outputs": [
    {
     "name": "stdout",
     "output_type": "stream",
     "text": [
      "Unique Player Types: ['Wicket-Keeper' 'Bowler' 'All-Rounder' 'Batter']\n",
      "\n",
      "Player Type Counts:\n",
      " TYPE\n",
      "Bowler           128\n",
      "All-Rounder      114\n",
      "Batter            53\n",
      "Wicket-Keeper     37\n",
      "Name: count, dtype: int64\n"
     ]
    }
   ],
   "source": [
    "# Unique player types\n",
    "unique_types = df['TYPE'].unique()\n",
    "print(\"Unique Player Types:\", unique_types)\n",
    "\n",
    "# Count of each type\n",
    "type_counts = df['TYPE'].value_counts()\n",
    "print(\"\\nPlayer Type Counts:\\n\", type_counts)"
   ]
  },
  {
   "cell_type": "markdown",
   "id": "9fd4feeb-a078-4ae4-bdf5-f760c86a86eb",
   "metadata": {},
   "source": [
    "5.Which team has the most players?"
   ]
  },
  {
   "cell_type": "code",
   "execution_count": 2,
   "id": "affc94e9-c7fa-45d8-bc7e-344327491f77",
   "metadata": {},
   "outputs": [
    {
     "name": "stdout",
     "output_type": "stream",
     "text": [
      "Number of Players in Each Team:\n",
      " TEAM\n",
      "KKR    10\n",
      "DC      9\n",
      "GT      8\n",
      "MI      8\n",
      "PK      8\n",
      "CSK     6\n",
      "LSG     6\n",
      "RCB     6\n",
      "SH      6\n",
      "RR      5\n",
      "Name: count, dtype: int64\n",
      "\n",
      "Team with the Most Players: KKR\n"
     ]
    }
   ],
   "source": [
    "# Removing 'Un-Sold' players\n",
    "df_filtered = df[df['TEAM'] != 'Un-Sold']\n",
    "\n",
    "# Counting players per team \n",
    "team_counts = df_filtered['TEAM'].value_counts()\n",
    "print(\"Number of Players in Each Team:\\n\", team_counts)\n",
    "\n",
    "# Team with the most players\n",
    "most_players_team = team_counts.idxmax()\n",
    "print(\"\\nTeam with the Most Players:\", most_players_team)"
   ]
  },
  {
   "cell_type": "raw",
   "id": "3b6e6739-c05d-4fad-985d-a29fa95ab874",
   "metadata": {},
   "source": [
    "Grouping and Aggregation"
   ]
  },
  {
   "cell_type": "markdown",
   "id": "33d4c828-3b2e-4fb2-adcb-f23de574e86b",
   "metadata": {},
   "source": [
    "6. What is the total amount spent by each team on players?"
   ]
  },
  {
   "cell_type": "code",
   "execution_count": 3,
   "id": "5210d9b9-6fe8-4baa-ab29-c592357993d5",
   "metadata": {},
   "outputs": [
    {
     "name": "stdout",
     "output_type": "stream",
     "text": [
      "Total Amount Spent by Each Team:\n",
      " TEAM\n",
      "KKR    ₹313,500,000.00\n",
      "SH     ₹308,000,000.00\n",
      "CSK    ₹304,000,000.00\n",
      "GT     ₹303,000,000.00\n",
      "PK     ₹249,500,000.00\n",
      "RCB    ₹204,000,000.00\n",
      "DC     ₹190,500,000.00\n",
      "MI     ₹167,000,000.00\n",
      "RR     ₹143,000,000.00\n",
      "LSG    ₹122,000,000.00\n",
      "Name: PRICE, dtype: object\n"
     ]
    }
   ],
   "source": [
    "# Total amount spent by each team \n",
    "team_spending = df[df['TEAM'] != 'Un-Sold'].groupby('TEAM')['PRICE'].sum().sort_values(ascending=False)\n",
    "team_spending_formatted = team_spending.apply(lambda x: f\"₹{x:,.2f}\")\n",
    "\n",
    "print(\"Total Amount Spent by Each Team:\\n\", team_spending_formatted)"
   ]
  },
  {
   "cell_type": "markdown",
   "id": "bd3783fb-d96b-4ede-a698-318482e118d5",
   "metadata": {},
   "source": [
    "7.\tWhich team spent the most money overall?"
   ]
  },
  {
   "cell_type": "code",
   "execution_count": 10,
   "id": "e454bdf8-2361-4d52-88cc-5608bb61ac97",
   "metadata": {},
   "outputs": [
    {
     "name": "stdout",
     "output_type": "stream",
     "text": [
      "Team that spent the most: KKR\n",
      "Total amount spent: ₹313,500,000\n"
     ]
    }
   ],
   "source": [
    "# Excluding 'Un-Sold' team\n",
    "df_sold = df[df['TEAM'] != 'Un-Sold']\n",
    "\n",
    "# Total amount spent by each valid team\n",
    "team_spending = df_sold.groupby('TEAM')['PRICE'].sum()\n",
    "\n",
    "# Finding the top spender\n",
    "top_team = team_spending.idxmax()\n",
    "top_amount = team_spending.max()\n",
    "\n",
    "print(\"Team that spent the most:\", top_team)\n",
    "print(\"Total amount spent: ₹{:,.0f}\".format(top_amount))"
   ]
  },
  {
   "cell_type": "markdown",
   "id": "cd881ff6-077b-4646-af03-269b36673bd5",
   "metadata": {},
   "source": [
    "8.\tWhat is the average price of Indian players vs Overseas players?"
   ]
  },
  {
   "cell_type": "code",
   "execution_count": 11,
   "id": "468567ef-8fa3-44d4-92b3-2b405a6eb92a",
   "metadata": {},
   "outputs": [
    {
     "name": "stdout",
     "output_type": "stream",
     "text": [
      "Average Price by Nationality:\n",
      " NATIONALITY\n",
      "Indian      5.400463e+06\n",
      "Overseas    1.883190e+07\n",
      "Name: PRICE, dtype: float64\n"
     ]
    }
   ],
   "source": [
    "# Average price of Indian vs Overseas players\n",
    "avg_price_by_nationality = df.groupby('NATIONALITY')['PRICE'].mean()\n",
    "print(\"Average Price by Nationality:\\n\", avg_price_by_nationality)"
   ]
  },
  {
   "cell_type": "markdown",
   "id": "aafd8b84-50de-41ee-b293-f310450df83d",
   "metadata": {},
   "source": [
    "9.\tHow many players of each type are there (e.g., how many Bowlers, Batters)?"
   ]
  },
  {
   "cell_type": "code",
   "execution_count": 5,
   "id": "dfc8d5e2-404a-41b4-9f99-e7217e1c4240",
   "metadata": {},
   "outputs": [
    {
     "name": "stdout",
     "output_type": "stream",
     "text": [
      "Number of Players by Each Type:\n",
      "\n",
      "TYPE\n",
      "Bowler           128\n",
      "All-Rounder      114\n",
      "Batter            53\n",
      "Wicket-Keeper     37\n",
      "Name: count, dtype: int64\n"
     ]
    }
   ],
   "source": [
    "# Counting players by TYPE\n",
    "player_type_counts = df['TYPE'].value_counts()\n",
    "\n",
    "print(\"Number of Players by Each Type:\\n\")\n",
    "print(player_type_counts)"
   ]
  },
  {
   "cell_type": "markdown",
   "id": "6156f6a5-81b5-4043-acf7-0ec33fb156a6",
   "metadata": {},
   "source": [
    "10.\tWhat is the average price of each type of player?"
   ]
  },
  {
   "cell_type": "code",
   "execution_count": 6,
   "id": "25b7b1b4-1d78-4a7a-91ec-38bc2745df2f",
   "metadata": {},
   "outputs": [
    {
     "name": "stdout",
     "output_type": "stream",
     "text": [
      "Average Price by Player Type:\n",
      " TYPE\n",
      "Batter           1.166981e+07\n",
      "Bowler           1.051172e+07\n",
      "All-Rounder      9.934211e+06\n",
      "Wicket-Keeper    6.878378e+06\n",
      "Name: PRICE, dtype: float64\n"
     ]
    }
   ],
   "source": [
    "# Average price for each type of player\n",
    "avg_price_by_type = df.groupby('TYPE')['PRICE'].mean().sort_values(ascending=False)\n",
    "print(\"Average Price by Player Type:\\n\", avg_price_by_type)"
   ]
  },
  {
   "cell_type": "markdown",
   "id": "ec420e8b-bb1b-4db9-92c7-aaca6bb2ac19",
   "metadata": {},
   "source": [
    "Filtering and Sorting"
   ]
  },
  {
   "cell_type": "markdown",
   "id": "5de004c1-16a1-46e6-a821-f771c450b404",
   "metadata": {},
   "source": [
    "11.\tList all players who were bought for more than ₹5 crores (50,000,000)"
   ]
  },
  {
   "cell_type": "code",
   "execution_count": 14,
   "id": "6b5d45c9-e322-494c-9005-76a8b90edcc2",
   "metadata": {},
   "outputs": [
    {
     "name": "stdout",
     "output_type": "stream",
     "text": [
      "Players bought for more than ₹5 crores:\n",
      "\n"
     ]
    },
    {
     "data": {
      "text/html": [
       "<div>\n",
       "<style scoped>\n",
       "    .dataframe tbody tr th:only-of-type {\n",
       "        vertical-align: middle;\n",
       "    }\n",
       "\n",
       "    .dataframe tbody tr th {\n",
       "        vertical-align: top;\n",
       "    }\n",
       "\n",
       "    .dataframe thead th {\n",
       "        text-align: right;\n",
       "    }\n",
       "</style>\n",
       "<table border=\"1\" class=\"dataframe\">\n",
       "  <thead>\n",
       "    <tr style=\"text-align: right;\">\n",
       "      <th></th>\n",
       "      <th>PLAYERS</th>\n",
       "      <th>PRICE</th>\n",
       "      <th>TEAM</th>\n",
       "    </tr>\n",
       "  </thead>\n",
       "  <tbody>\n",
       "    <tr>\n",
       "      <th>2</th>\n",
       "      <td>Daryl Mitchell</td>\n",
       "      <td>140000000</td>\n",
       "      <td>CSK</td>\n",
       "    </tr>\n",
       "    <tr>\n",
       "      <th>3</th>\n",
       "      <td>Sameer Rizvi</td>\n",
       "      <td>84000000</td>\n",
       "      <td>CSK</td>\n",
       "    </tr>\n",
       "    <tr>\n",
       "      <th>12</th>\n",
       "      <td>Kumar Kushagra</td>\n",
       "      <td>72000000</td>\n",
       "      <td>DC</td>\n",
       "    </tr>\n",
       "    <tr>\n",
       "      <th>16</th>\n",
       "      <td>Spencer Johnson</td>\n",
       "      <td>100000000</td>\n",
       "      <td>GT</td>\n",
       "    </tr>\n",
       "    <tr>\n",
       "      <th>21</th>\n",
       "      <td>Shahrukh Khan</td>\n",
       "      <td>74000000</td>\n",
       "      <td>GT</td>\n",
       "    </tr>\n",
       "    <tr>\n",
       "      <th>22</th>\n",
       "      <td>Umesh Yadav</td>\n",
       "      <td>58000000</td>\n",
       "      <td>GT</td>\n",
       "    </tr>\n",
       "    <tr>\n",
       "      <th>27</th>\n",
       "      <td>Mitchell Starc</td>\n",
       "      <td>247500000</td>\n",
       "      <td>KKR</td>\n",
       "    </tr>\n",
       "    <tr>\n",
       "      <th>36</th>\n",
       "      <td>Shivam Mavi</td>\n",
       "      <td>64000000</td>\n",
       "      <td>LSG</td>\n",
       "    </tr>\n",
       "    <tr>\n",
       "      <th>52</th>\n",
       "      <td>Rilee Rossouw</td>\n",
       "      <td>80000000</td>\n",
       "      <td>PK</td>\n",
       "    </tr>\n",
       "    <tr>\n",
       "      <th>54</th>\n",
       "      <td>Harshal Patel</td>\n",
       "      <td>117500000</td>\n",
       "      <td>PK</td>\n",
       "    </tr>\n",
       "    <tr>\n",
       "      <th>55</th>\n",
       "      <td>Shubham Dubey</td>\n",
       "      <td>58000000</td>\n",
       "      <td>RR</td>\n",
       "    </tr>\n",
       "    <tr>\n",
       "      <th>56</th>\n",
       "      <td>Rovman Powell</td>\n",
       "      <td>74000000</td>\n",
       "      <td>RR</td>\n",
       "    </tr>\n",
       "    <tr>\n",
       "      <th>63</th>\n",
       "      <td>Alzarri Joseph</td>\n",
       "      <td>115000000</td>\n",
       "      <td>RCB</td>\n",
       "    </tr>\n",
       "    <tr>\n",
       "      <th>70</th>\n",
       "      <td>Pat Cummins</td>\n",
       "      <td>205000000</td>\n",
       "      <td>SH</td>\n",
       "    </tr>\n",
       "    <tr>\n",
       "      <th>71</th>\n",
       "      <td>Travis Head</td>\n",
       "      <td>68000000</td>\n",
       "      <td>SH</td>\n",
       "    </tr>\n",
       "  </tbody>\n",
       "</table>\n",
       "</div>"
      ],
      "text/plain": [
       "            PLAYERS      PRICE TEAM\n",
       "2    Daryl Mitchell  140000000  CSK\n",
       "3      Sameer Rizvi   84000000  CSK\n",
       "12   Kumar Kushagra   72000000   DC\n",
       "16  Spencer Johnson  100000000   GT\n",
       "21    Shahrukh Khan   74000000   GT\n",
       "22      Umesh Yadav   58000000   GT\n",
       "27   Mitchell Starc  247500000  KKR\n",
       "36      Shivam Mavi   64000000  LSG\n",
       "52    Rilee Rossouw   80000000   PK\n",
       "54    Harshal Patel  117500000   PK\n",
       "55    Shubham Dubey   58000000   RR\n",
       "56    Rovman Powell   74000000   RR\n",
       "63   Alzarri Joseph  115000000  RCB\n",
       "70      Pat Cummins  205000000   SH\n",
       "71      Travis Head   68000000   SH"
      ]
     },
     "execution_count": 14,
     "metadata": {},
     "output_type": "execute_result"
    }
   ],
   "source": [
    "# Players bought for more than ₹5 crores\n",
    "high_value_players = df[df['PRICE'] > 50000000]\n",
    "print(\"Players bought for more than ₹5 crores:\\n\")\n",
    "high_value_players[['PLAYERS', 'PRICE', 'TEAM']]"
   ]
  },
  {
   "cell_type": "markdown",
   "id": "f01d0060-d0a1-4c44-a5f1-84ddef675bd0",
   "metadata": {},
   "source": [
    "12.\tWho is the most expensive player in the dataset?"
   ]
  },
  {
   "cell_type": "code",
   "execution_count": 15,
   "id": "f0b560b3-fc64-4112-b8e0-15b680afe185",
   "metadata": {},
   "outputs": [
    {
     "name": "stdout",
     "output_type": "stream",
     "text": [
      "Most Expensive Player:\n",
      "\n"
     ]
    },
    {
     "data": {
      "text/html": [
       "<div>\n",
       "<style scoped>\n",
       "    .dataframe tbody tr th:only-of-type {\n",
       "        vertical-align: middle;\n",
       "    }\n",
       "\n",
       "    .dataframe tbody tr th {\n",
       "        vertical-align: top;\n",
       "    }\n",
       "\n",
       "    .dataframe thead th {\n",
       "        text-align: right;\n",
       "    }\n",
       "</style>\n",
       "<table border=\"1\" class=\"dataframe\">\n",
       "  <thead>\n",
       "    <tr style=\"text-align: right;\">\n",
       "      <th></th>\n",
       "      <th>PLAYERS</th>\n",
       "      <th>NATIONALITY</th>\n",
       "      <th>TYPE</th>\n",
       "      <th>PRICE</th>\n",
       "      <th>TEAM</th>\n",
       "    </tr>\n",
       "  </thead>\n",
       "  <tbody>\n",
       "    <tr>\n",
       "      <th>27</th>\n",
       "      <td>Mitchell Starc</td>\n",
       "      <td>Overseas</td>\n",
       "      <td>Bowler</td>\n",
       "      <td>247500000</td>\n",
       "      <td>KKR</td>\n",
       "    </tr>\n",
       "  </tbody>\n",
       "</table>\n",
       "</div>"
      ],
      "text/plain": [
       "           PLAYERS NATIONALITY    TYPE      PRICE TEAM\n",
       "27  Mitchell Starc    Overseas  Bowler  247500000  KKR"
      ]
     },
     "execution_count": 15,
     "metadata": {},
     "output_type": "execute_result"
    }
   ],
   "source": [
    "# Most expensive player\n",
    "max_price = df['PRICE'].max()\n",
    "most_expensive_player = df[df['PRICE'] == max_price]\n",
    "\n",
    "print(\"Most Expensive Player:\\n\")\n",
    "most_expensive_player[['PLAYERS', 'NATIONALITY', 'TYPE', 'PRICE', 'TEAM']]"
   ]
  },
  {
   "cell_type": "markdown",
   "id": "7ac57c11-5462-4468-b221-0a69cc14d13c",
   "metadata": {},
   "source": [
    "13.\tWhich team has the most overseas players?"
   ]
  },
  {
   "cell_type": "code",
   "execution_count": 16,
   "id": "10194001-da31-441a-b942-69f2e667639d",
   "metadata": {},
   "outputs": [
    {
     "name": "stdout",
     "output_type": "stream",
     "text": [
      "Overseas Players by Team:\n",
      " TEAM\n",
      "Un-Sold    86\n",
      "DC          4\n",
      "KKR         4\n",
      "MI          4\n",
      "CSK         3\n",
      "RR          3\n",
      "RCB         3\n",
      "SH          3\n",
      "GT          2\n",
      "LSG         2\n",
      "PK          2\n",
      "Name: count, dtype: int64\n",
      "\n",
      "Team with the most overseas players: Un-Sold (86 players)\n"
     ]
    }
   ],
   "source": [
    "# Filtering only overseas players\n",
    "overseas_players = df[df['NATIONALITY'] != 'Indian']\n",
    "\n",
    "# Count of overseas players by team\n",
    "overseas_count_by_team = overseas_players['TEAM'].value_counts()\n",
    "\n",
    "print(\"Overseas Players by Team:\\n\", overseas_count_by_team)\n",
    "\n",
    "# Team with most overseas players\n",
    "top_overseas_team = overseas_count_by_team.idxmax()\n",
    "top_overseas_count = overseas_count_by_team.max()\n",
    "\n",
    "print(f\"\\nTeam with the most overseas players: {top_overseas_team} ({top_overseas_count} players)\")"
   ]
  },
  {
   "cell_type": "markdown",
   "id": "48eba0c0-1bc0-4ed5-b511-95db2dd7a974",
   "metadata": {},
   "source": [
    "14.\tList all Wicket-Keepers and their respective teams and prices"
   ]
  },
  {
   "cell_type": "code",
   "execution_count": 17,
   "id": "420af374-2174-46d7-b36e-5733b18c9fb9",
   "metadata": {},
   "outputs": [
    {
     "name": "stdout",
     "output_type": "stream",
     "text": [
      "Wicket-Keepers and their Teams & Prices:\n",
      "\n"
     ]
    },
    {
     "data": {
      "text/html": [
       "<div>\n",
       "<style scoped>\n",
       "    .dataframe tbody tr th:only-of-type {\n",
       "        vertical-align: middle;\n",
       "    }\n",
       "\n",
       "    .dataframe tbody tr th {\n",
       "        vertical-align: top;\n",
       "    }\n",
       "\n",
       "    .dataframe thead th {\n",
       "        text-align: right;\n",
       "    }\n",
       "</style>\n",
       "<table border=\"1\" class=\"dataframe\">\n",
       "  <thead>\n",
       "    <tr style=\"text-align: right;\">\n",
       "      <th></th>\n",
       "      <th>PLAYERS</th>\n",
       "      <th>TEAM</th>\n",
       "      <th>PRICE</th>\n",
       "    </tr>\n",
       "  </thead>\n",
       "  <tbody>\n",
       "    <tr>\n",
       "      <th>0</th>\n",
       "      <td>Avanish Rao Aravelly</td>\n",
       "      <td>CSK</td>\n",
       "      <td>2000000</td>\n",
       "    </tr>\n",
       "    <tr>\n",
       "      <th>6</th>\n",
       "      <td>Ricky Bhui</td>\n",
       "      <td>DC</td>\n",
       "      <td>2000000</td>\n",
       "    </tr>\n",
       "    <tr>\n",
       "      <th>10</th>\n",
       "      <td>Shai Hope</td>\n",
       "      <td>DC</td>\n",
       "      <td>7500000</td>\n",
       "    </tr>\n",
       "    <tr>\n",
       "      <th>12</th>\n",
       "      <td>Kumar Kushagra</td>\n",
       "      <td>DC</td>\n",
       "      <td>72000000</td>\n",
       "    </tr>\n",
       "    <tr>\n",
       "      <th>13</th>\n",
       "      <td>Tristan Stubbs</td>\n",
       "      <td>DC</td>\n",
       "      <td>5000000</td>\n",
       "    </tr>\n",
       "    <tr>\n",
       "      <th>18</th>\n",
       "      <td>Robin Minz</td>\n",
       "      <td>GT</td>\n",
       "      <td>36000000</td>\n",
       "    </tr>\n",
       "    <tr>\n",
       "      <th>30</th>\n",
       "      <td>K.S. Bharat</td>\n",
       "      <td>KKR</td>\n",
       "      <td>5000000</td>\n",
       "    </tr>\n",
       "    <tr>\n",
       "      <th>59</th>\n",
       "      <td>Tom Kohler-Cadmore</td>\n",
       "      <td>RR</td>\n",
       "      <td>4000000</td>\n",
       "    </tr>\n",
       "    <tr>\n",
       "      <th>80</th>\n",
       "      <td>Urvil Patel</td>\n",
       "      <td>Un-Sold</td>\n",
       "      <td>2000000</td>\n",
       "    </tr>\n",
       "    <tr>\n",
       "      <th>81</th>\n",
       "      <td>Vishnu Solanki</td>\n",
       "      <td>Un-Sold</td>\n",
       "      <td>2000000</td>\n",
       "    </tr>\n",
       "    <tr>\n",
       "      <th>161</th>\n",
       "      <td>Mohit Ahlawat</td>\n",
       "      <td>Un-Sold</td>\n",
       "      <td>2000000</td>\n",
       "    </tr>\n",
       "    <tr>\n",
       "      <th>162</th>\n",
       "      <td>G. Ajitesh</td>\n",
       "      <td>Un-Sold</td>\n",
       "      <td>2000000</td>\n",
       "    </tr>\n",
       "    <tr>\n",
       "      <th>163</th>\n",
       "      <td>L.R. Chethan</td>\n",
       "      <td>Un-Sold</td>\n",
       "      <td>2000000</td>\n",
       "    </tr>\n",
       "    <tr>\n",
       "      <th>164</th>\n",
       "      <td>Gourav Choudhary</td>\n",
       "      <td>Un-Sold</td>\n",
       "      <td>2000000</td>\n",
       "    </tr>\n",
       "    <tr>\n",
       "      <th>165</th>\n",
       "      <td>Harvik Desai</td>\n",
       "      <td>Un-Sold</td>\n",
       "      <td>2000000</td>\n",
       "    </tr>\n",
       "    <tr>\n",
       "      <th>166</th>\n",
       "      <td>Shakir Gandhi</td>\n",
       "      <td>Un-Sold</td>\n",
       "      <td>2000000</td>\n",
       "    </tr>\n",
       "    <tr>\n",
       "      <th>167</th>\n",
       "      <td>Sumit Ghadigaonkar</td>\n",
       "      <td>Un-Sold</td>\n",
       "      <td>2000000</td>\n",
       "    </tr>\n",
       "    <tr>\n",
       "      <th>168</th>\n",
       "      <td>Baba Indrajith</td>\n",
       "      <td>Un-Sold</td>\n",
       "      <td>2000000</td>\n",
       "    </tr>\n",
       "    <tr>\n",
       "      <th>169</th>\n",
       "      <td>Bhagmender Lather</td>\n",
       "      <td>Un-Sold</td>\n",
       "      <td>2000000</td>\n",
       "    </tr>\n",
       "    <tr>\n",
       "      <th>170</th>\n",
       "      <td>Anmol Malhotra</td>\n",
       "      <td>Un-Sold</td>\n",
       "      <td>2000000</td>\n",
       "    </tr>\n",
       "    <tr>\n",
       "      <th>171</th>\n",
       "      <td>Darshan Misal</td>\n",
       "      <td>Un-Sold</td>\n",
       "      <td>2000000</td>\n",
       "    </tr>\n",
       "    <tr>\n",
       "      <th>172</th>\n",
       "      <td>Nikhil Naik</td>\n",
       "      <td>Un-Sold</td>\n",
       "      <td>2000000</td>\n",
       "    </tr>\n",
       "    <tr>\n",
       "      <th>173</th>\n",
       "      <td>Prasad Pawar</td>\n",
       "      <td>Un-Sold</td>\n",
       "      <td>2000000</td>\n",
       "    </tr>\n",
       "    <tr>\n",
       "      <th>174</th>\n",
       "      <td>Mahesh Pithiya</td>\n",
       "      <td>Un-Sold</td>\n",
       "      <td>2000000</td>\n",
       "    </tr>\n",
       "    <tr>\n",
       "      <th>175</th>\n",
       "      <td>Bipin Saurabh</td>\n",
       "      <td>Un-Sold</td>\n",
       "      <td>2000000</td>\n",
       "    </tr>\n",
       "    <tr>\n",
       "      <th>176</th>\n",
       "      <td>B.R. Sharath</td>\n",
       "      <td>Un-Sold</td>\n",
       "      <td>2000000</td>\n",
       "    </tr>\n",
       "    <tr>\n",
       "      <th>177</th>\n",
       "      <td>K.L. Shrijith</td>\n",
       "      <td>Un-Sold</td>\n",
       "      <td>2000000</td>\n",
       "    </tr>\n",
       "    <tr>\n",
       "      <th>178</th>\n",
       "      <td>Avneesh Sudha</td>\n",
       "      <td>Un-Sold</td>\n",
       "      <td>2000000</td>\n",
       "    </tr>\n",
       "    <tr>\n",
       "      <th>179</th>\n",
       "      <td>Aditya Tare</td>\n",
       "      <td>Un-Sold</td>\n",
       "      <td>2000000</td>\n",
       "    </tr>\n",
       "    <tr>\n",
       "      <th>180</th>\n",
       "      <td>Nihal Ullal</td>\n",
       "      <td>Un-Sold</td>\n",
       "      <td>2000000</td>\n",
       "    </tr>\n",
       "    <tr>\n",
       "      <th>238</th>\n",
       "      <td>William Salzmann</td>\n",
       "      <td>Un-Sold</td>\n",
       "      <td>2000000</td>\n",
       "    </tr>\n",
       "    <tr>\n",
       "      <th>247</th>\n",
       "      <td>Josh Inglis</td>\n",
       "      <td>Un-Sold</td>\n",
       "      <td>20000000</td>\n",
       "    </tr>\n",
       "    <tr>\n",
       "      <th>254</th>\n",
       "      <td>Ben Duckett</td>\n",
       "      <td>Un-Sold</td>\n",
       "      <td>20000000</td>\n",
       "    </tr>\n",
       "    <tr>\n",
       "      <th>255</th>\n",
       "      <td>Philip Salt</td>\n",
       "      <td>Un-Sold</td>\n",
       "      <td>15000000</td>\n",
       "    </tr>\n",
       "    <tr>\n",
       "      <th>266</th>\n",
       "      <td>Sam Billings</td>\n",
       "      <td>Un-Sold</td>\n",
       "      <td>10000000</td>\n",
       "    </tr>\n",
       "    <tr>\n",
       "      <th>282</th>\n",
       "      <td>Kusal Mendis</td>\n",
       "      <td>Un-Sold</td>\n",
       "      <td>5000000</td>\n",
       "    </tr>\n",
       "    <tr>\n",
       "      <th>307</th>\n",
       "      <td>Johnson Charles</td>\n",
       "      <td>Un-Sold</td>\n",
       "      <td>5000000</td>\n",
       "    </tr>\n",
       "  </tbody>\n",
       "</table>\n",
       "</div>"
      ],
      "text/plain": [
       "                  PLAYERS     TEAM     PRICE\n",
       "0    Avanish Rao Aravelly      CSK   2000000\n",
       "6              Ricky Bhui       DC   2000000\n",
       "10              Shai Hope       DC   7500000\n",
       "12         Kumar Kushagra       DC  72000000\n",
       "13         Tristan Stubbs       DC   5000000\n",
       "18             Robin Minz       GT  36000000\n",
       "30            K.S. Bharat      KKR   5000000\n",
       "59     Tom Kohler-Cadmore       RR   4000000\n",
       "80            Urvil Patel  Un-Sold   2000000\n",
       "81         Vishnu Solanki  Un-Sold   2000000\n",
       "161         Mohit Ahlawat  Un-Sold   2000000\n",
       "162            G. Ajitesh  Un-Sold   2000000\n",
       "163          L.R. Chethan  Un-Sold   2000000\n",
       "164      Gourav Choudhary  Un-Sold   2000000\n",
       "165          Harvik Desai  Un-Sold   2000000\n",
       "166         Shakir Gandhi  Un-Sold   2000000\n",
       "167    Sumit Ghadigaonkar  Un-Sold   2000000\n",
       "168        Baba Indrajith  Un-Sold   2000000\n",
       "169     Bhagmender Lather  Un-Sold   2000000\n",
       "170        Anmol Malhotra  Un-Sold   2000000\n",
       "171         Darshan Misal  Un-Sold   2000000\n",
       "172           Nikhil Naik  Un-Sold   2000000\n",
       "173          Prasad Pawar  Un-Sold   2000000\n",
       "174        Mahesh Pithiya  Un-Sold   2000000\n",
       "175         Bipin Saurabh  Un-Sold   2000000\n",
       "176          B.R. Sharath  Un-Sold   2000000\n",
       "177         K.L. Shrijith  Un-Sold   2000000\n",
       "178         Avneesh Sudha  Un-Sold   2000000\n",
       "179           Aditya Tare  Un-Sold   2000000\n",
       "180           Nihal Ullal  Un-Sold   2000000\n",
       "238      William Salzmann  Un-Sold   2000000\n",
       "247           Josh Inglis  Un-Sold  20000000\n",
       "254           Ben Duckett  Un-Sold  20000000\n",
       "255           Philip Salt  Un-Sold  15000000\n",
       "266          Sam Billings  Un-Sold  10000000\n",
       "282          Kusal Mendis  Un-Sold   5000000\n",
       "307       Johnson Charles  Un-Sold   5000000"
      ]
     },
     "execution_count": 17,
     "metadata": {},
     "output_type": "execute_result"
    }
   ],
   "source": [
    "# Listing of all Wicket-Keepers with their team and price\n",
    "wicket_keepers = df[df['TYPE'] == 'Wicket-Keeper'][['PLAYERS', 'TEAM', 'PRICE']]\n",
    "print(\"Wicket-Keepers and their Teams & Prices:\\n\")\n",
    "wicket_keepers"
   ]
  },
  {
   "cell_type": "markdown",
   "id": "d14df981-7599-4754-a02a-4fe50b8f7ca5",
   "metadata": {},
   "source": [
    "15.\tFind the top 3 most expensive Indian players"
   ]
  },
  {
   "cell_type": "code",
   "execution_count": 18,
   "id": "ca116e9a-5b26-4a08-9f08-ef8c2b77c844",
   "metadata": {},
   "outputs": [
    {
     "name": "stdout",
     "output_type": "stream",
     "text": [
      "Top 3 Most Expensive Indian Players:\n",
      "\n"
     ]
    },
    {
     "data": {
      "text/html": [
       "<div>\n",
       "<style scoped>\n",
       "    .dataframe tbody tr th:only-of-type {\n",
       "        vertical-align: middle;\n",
       "    }\n",
       "\n",
       "    .dataframe tbody tr th {\n",
       "        vertical-align: top;\n",
       "    }\n",
       "\n",
       "    .dataframe thead th {\n",
       "        text-align: right;\n",
       "    }\n",
       "</style>\n",
       "<table border=\"1\" class=\"dataframe\">\n",
       "  <thead>\n",
       "    <tr style=\"text-align: right;\">\n",
       "      <th></th>\n",
       "      <th>PLAYERS</th>\n",
       "      <th>PRICE</th>\n",
       "      <th>TEAM</th>\n",
       "    </tr>\n",
       "  </thead>\n",
       "  <tbody>\n",
       "    <tr>\n",
       "      <th>54</th>\n",
       "      <td>Harshal Patel</td>\n",
       "      <td>117500000</td>\n",
       "      <td>PK</td>\n",
       "    </tr>\n",
       "    <tr>\n",
       "      <th>3</th>\n",
       "      <td>Sameer Rizvi</td>\n",
       "      <td>84000000</td>\n",
       "      <td>CSK</td>\n",
       "    </tr>\n",
       "    <tr>\n",
       "      <th>21</th>\n",
       "      <td>Shahrukh Khan</td>\n",
       "      <td>74000000</td>\n",
       "      <td>GT</td>\n",
       "    </tr>\n",
       "  </tbody>\n",
       "</table>\n",
       "</div>"
      ],
      "text/plain": [
       "          PLAYERS      PRICE TEAM\n",
       "54  Harshal Patel  117500000   PK\n",
       "3    Sameer Rizvi   84000000  CSK\n",
       "21  Shahrukh Khan   74000000   GT"
      ]
     },
     "execution_count": 18,
     "metadata": {},
     "output_type": "execute_result"
    }
   ],
   "source": [
    "# Top 3 most expensive Indian players\n",
    "top_indian_players = df[df['NATIONALITY'] == 'Indian'].sort_values(by='PRICE', ascending=False).head(3)\n",
    "print(\"Top 3 Most Expensive Indian Players:\\n\")\n",
    "top_indian_players[['PLAYERS', 'PRICE', 'TEAM']]"
   ]
  },
  {
   "cell_type": "raw",
   "id": "b171c5c9-191c-42eb-8bd9-5ca5b1685495",
   "metadata": {},
   "source": [
    "Advanced/Insightful"
   ]
  },
  {
   "cell_type": "markdown",
   "id": "67ad9777-22e2-4e6f-a75b-498d006fab5b",
   "metadata": {},
   "source": [
    "16.\tWhich team spent the most per player on average?"
   ]
  },
  {
   "cell_type": "code",
   "execution_count": 19,
   "id": "7d0c8698-2808-4689-a1a4-192e50f32408",
   "metadata": {},
   "outputs": [
    {
     "name": "stdout",
     "output_type": "stream",
     "text": [
      "Average Spend per Player by Team:\n",
      " TEAM\n",
      "SH     5.133333e+07\n",
      "CSK    5.066667e+07\n",
      "GT     3.787500e+07\n",
      "RCB    3.400000e+07\n",
      "KKR    3.135000e+07\n",
      "PK     3.118750e+07\n",
      "RR     2.860000e+07\n",
      "DC     2.116667e+07\n",
      "MI     2.087500e+07\n",
      "LSG    2.033333e+07\n",
      "Name: PRICE, dtype: float64\n",
      "\n",
      "Team with the highest average spend per player: SH (₹51,333,333)\n"
     ]
    }
   ],
   "source": [
    "# Removing \"Un-Sold\" if present\n",
    "df_valid = df[df['TEAM'] != 'Un-Sold']\n",
    "\n",
    "# Average amount spent per player by team\n",
    "avg_spend_per_player = df_valid.groupby('TEAM')['PRICE'].mean().sort_values(ascending=False)\n",
    "\n",
    "print(\"Average Spend per Player by Team:\\n\", avg_spend_per_player)\n",
    "\n",
    "# Team that spent the most per player\n",
    "top_avg_team = avg_spend_per_player.idxmax()\n",
    "top_avg_value = avg_spend_per_player.max()\n",
    "\n",
    "print(f\"\\nTeam with the highest average spend per player: {top_avg_team} (₹{top_avg_value:,.0f})\")"
   ]
  },
  {
   "cell_type": "markdown",
   "id": "ca598d49-a573-4d66-aa1d-9f570e03749e",
   "metadata": {},
   "source": [
    "17.\tCreate a summary showing the number of players by type for each team"
   ]
  },
  {
   "cell_type": "code",
   "execution_count": 20,
   "id": "60d69c1c-559d-444c-a91c-ff5e87e8393b",
   "metadata": {},
   "outputs": [
    {
     "name": "stdout",
     "output_type": "stream",
     "text": [
      "Player Type Summary by Team:\n",
      "\n"
     ]
    },
    {
     "data": {
      "text/html": [
       "<div>\n",
       "<style scoped>\n",
       "    .dataframe tbody tr th:only-of-type {\n",
       "        vertical-align: middle;\n",
       "    }\n",
       "\n",
       "    .dataframe tbody tr th {\n",
       "        vertical-align: top;\n",
       "    }\n",
       "\n",
       "    .dataframe thead th {\n",
       "        text-align: right;\n",
       "    }\n",
       "</style>\n",
       "<table border=\"1\" class=\"dataframe\">\n",
       "  <thead>\n",
       "    <tr style=\"text-align: right;\">\n",
       "      <th>TYPE</th>\n",
       "      <th>All-Rounder</th>\n",
       "      <th>Batter</th>\n",
       "      <th>Bowler</th>\n",
       "      <th>Wicket-Keeper</th>\n",
       "    </tr>\n",
       "    <tr>\n",
       "      <th>TEAM</th>\n",
       "      <th></th>\n",
       "      <th></th>\n",
       "      <th></th>\n",
       "      <th></th>\n",
       "    </tr>\n",
       "  </thead>\n",
       "  <tbody>\n",
       "    <tr>\n",
       "      <th>CSK</th>\n",
       "      <td>3</td>\n",
       "      <td>1</td>\n",
       "      <td>1</td>\n",
       "      <td>1</td>\n",
       "    </tr>\n",
       "    <tr>\n",
       "      <th>DC</th>\n",
       "      <td>1</td>\n",
       "      <td>2</td>\n",
       "      <td>2</td>\n",
       "      <td>4</td>\n",
       "    </tr>\n",
       "    <tr>\n",
       "      <th>GT</th>\n",
       "      <td>2</td>\n",
       "      <td>0</td>\n",
       "      <td>5</td>\n",
       "      <td>1</td>\n",
       "    </tr>\n",
       "    <tr>\n",
       "      <th>KKR</th>\n",
       "      <td>1</td>\n",
       "      <td>3</td>\n",
       "      <td>5</td>\n",
       "      <td>1</td>\n",
       "    </tr>\n",
       "    <tr>\n",
       "      <th>LSG</th>\n",
       "      <td>3</td>\n",
       "      <td>1</td>\n",
       "      <td>2</td>\n",
       "      <td>0</td>\n",
       "    </tr>\n",
       "    <tr>\n",
       "      <th>MI</th>\n",
       "      <td>5</td>\n",
       "      <td>0</td>\n",
       "      <td>3</td>\n",
       "      <td>0</td>\n",
       "    </tr>\n",
       "    <tr>\n",
       "      <th>PK</th>\n",
       "      <td>5</td>\n",
       "      <td>2</td>\n",
       "      <td>1</td>\n",
       "      <td>0</td>\n",
       "    </tr>\n",
       "    <tr>\n",
       "      <th>RCB</th>\n",
       "      <td>2</td>\n",
       "      <td>1</td>\n",
       "      <td>3</td>\n",
       "      <td>0</td>\n",
       "    </tr>\n",
       "    <tr>\n",
       "      <th>RR</th>\n",
       "      <td>1</td>\n",
       "      <td>2</td>\n",
       "      <td>1</td>\n",
       "      <td>1</td>\n",
       "    </tr>\n",
       "    <tr>\n",
       "      <th>SH</th>\n",
       "      <td>2</td>\n",
       "      <td>1</td>\n",
       "      <td>3</td>\n",
       "      <td>0</td>\n",
       "    </tr>\n",
       "  </tbody>\n",
       "</table>\n",
       "</div>"
      ],
      "text/plain": [
       "TYPE  All-Rounder  Batter  Bowler  Wicket-Keeper\n",
       "TEAM                                            \n",
       "CSK             3       1       1              1\n",
       "DC              1       2       2              4\n",
       "GT              2       0       5              1\n",
       "KKR             1       3       5              1\n",
       "LSG             3       1       2              0\n",
       "MI              5       0       3              0\n",
       "PK              5       2       1              0\n",
       "RCB             2       1       3              0\n",
       "RR              1       2       1              1\n",
       "SH              2       1       3              0"
      ]
     },
     "execution_count": 20,
     "metadata": {},
     "output_type": "execute_result"
    }
   ],
   "source": [
    "# Summary: number of players by type for each team\n",
    "player_type_summary = df[df['TEAM'] != 'Un-Sold'].pivot_table(index='TEAM', columns='TYPE', values='PLAYERS', aggfunc='count', fill_value=0)\n",
    "\n",
    "print(\"Player Type Summary by Team:\\n\")\n",
    "player_type_summary"
   ]
  },
  {
   "cell_type": "markdown",
   "id": "17c24431-3722-4a3a-973a-9a50a2fb3acb",
   "metadata": {},
   "source": [
    "18.\tCalculate the percentage of overseas players in each team."
   ]
  },
  {
   "cell_type": "code",
   "execution_count": 21,
   "id": "b1ed7bca-5ec4-4a5e-b82c-1ee8fbab9600",
   "metadata": {},
   "outputs": [
    {
     "name": "stdout",
     "output_type": "stream",
     "text": [
      "Percentage of Overseas Players per Team:\n",
      "\n",
      "TEAM\n",
      "RR     60.00\n",
      "CSK    50.00\n",
      "MI     50.00\n",
      "RCB    50.00\n",
      "SH     50.00\n",
      "DC     44.44\n",
      "KKR    40.00\n",
      "LSG    33.33\n",
      "GT     25.00\n",
      "PK     25.00\n",
      "Name: PLAYERS, dtype: float64\n"
     ]
    }
   ],
   "source": [
    "# Filtering out 'Un-Sold' players\n",
    "df_valid = df[df['TEAM'] != 'Un-Sold']\n",
    "\n",
    "# Total players per team\n",
    "total_players = df_valid.groupby('TEAM')['PLAYERS'].count()\n",
    "\n",
    "# Overseas players per team\n",
    "overseas_players = df_valid[df_valid['NATIONALITY'] != 'Indian'].groupby('TEAM')['PLAYERS'].count()\n",
    "\n",
    "# Calculating percentage\n",
    "overseas_percentage = (overseas_players / total_players * 100).round(2).sort_values(ascending=False)\n",
    "\n",
    "print(\"Percentage of Overseas Players per Team:\\n\")\n",
    "print(overseas_percentage)"
   ]
  },
  {
   "cell_type": "markdown",
   "id": "48696109-6cfc-4de8-a375-f9b05a9d8f9b",
   "metadata": {},
   "source": [
    "19.\tWho is the cheapest overseas player?"
   ]
  },
  {
   "cell_type": "code",
   "execution_count": 22,
   "id": "9807eb14-cf73-493c-a211-179f4a443ae7",
   "metadata": {},
   "outputs": [
    {
     "name": "stdout",
     "output_type": "stream",
     "text": [
      "Cheapest Overseas Player:\n",
      "\n"
     ]
    },
    {
     "data": {
      "text/html": [
       "<div>\n",
       "<style scoped>\n",
       "    .dataframe tbody tr th:only-of-type {\n",
       "        vertical-align: middle;\n",
       "    }\n",
       "\n",
       "    .dataframe tbody tr th {\n",
       "        vertical-align: top;\n",
       "    }\n",
       "\n",
       "    .dataframe thead th {\n",
       "        text-align: right;\n",
       "    }\n",
       "</style>\n",
       "<table border=\"1\" class=\"dataframe\">\n",
       "  <thead>\n",
       "    <tr style=\"text-align: right;\">\n",
       "      <th></th>\n",
       "      <th>PLAYERS</th>\n",
       "      <th>TEAM</th>\n",
       "      <th>TYPE</th>\n",
       "      <th>PRICE</th>\n",
       "    </tr>\n",
       "  </thead>\n",
       "  <tbody>\n",
       "    <tr>\n",
       "      <th>235</th>\n",
       "      <td>Jake Fraser-Mcgurk</td>\n",
       "      <td>Un-Sold</td>\n",
       "      <td>All-Rounder</td>\n",
       "      <td>2000000</td>\n",
       "    </tr>\n",
       "    <tr>\n",
       "      <th>236</th>\n",
       "      <td>Duan Jansen</td>\n",
       "      <td>Un-Sold</td>\n",
       "      <td>All-Rounder</td>\n",
       "      <td>2000000</td>\n",
       "    </tr>\n",
       "    <tr>\n",
       "      <th>237</th>\n",
       "      <td>Prenelan Subrayen</td>\n",
       "      <td>Un-Sold</td>\n",
       "      <td>All-Rounder</td>\n",
       "      <td>2000000</td>\n",
       "    </tr>\n",
       "    <tr>\n",
       "      <th>238</th>\n",
       "      <td>William Salzmann</td>\n",
       "      <td>Un-Sold</td>\n",
       "      <td>Wicket-Keeper</td>\n",
       "      <td>2000000</td>\n",
       "    </tr>\n",
       "    <tr>\n",
       "      <th>239</th>\n",
       "      <td>Ottneil Baartman</td>\n",
       "      <td>Un-Sold</td>\n",
       "      <td>Bowler</td>\n",
       "      <td>2000000</td>\n",
       "    </tr>\n",
       "    <tr>\n",
       "      <th>240</th>\n",
       "      <td>Shamar Joseph</td>\n",
       "      <td>Un-Sold</td>\n",
       "      <td>Bowler</td>\n",
       "      <td>2000000</td>\n",
       "    </tr>\n",
       "    <tr>\n",
       "      <th>241</th>\n",
       "      <td>Kwena Maphaka</td>\n",
       "      <td>Un-Sold</td>\n",
       "      <td>Bowler</td>\n",
       "      <td>2000000</td>\n",
       "    </tr>\n",
       "    <tr>\n",
       "      <th>242</th>\n",
       "      <td>William O'Rourke</td>\n",
       "      <td>Un-Sold</td>\n",
       "      <td>Bowler</td>\n",
       "      <td>2000000</td>\n",
       "    </tr>\n",
       "    <tr>\n",
       "      <th>243</th>\n",
       "      <td>Paul Van Meekeren</td>\n",
       "      <td>Un-Sold</td>\n",
       "      <td>Bowler</td>\n",
       "      <td>2000000</td>\n",
       "    </tr>\n",
       "    <tr>\n",
       "      <th>244</th>\n",
       "      <td>Chris Wood</td>\n",
       "      <td>Un-Sold</td>\n",
       "      <td>Bowler</td>\n",
       "      <td>2000000</td>\n",
       "    </tr>\n",
       "    <tr>\n",
       "      <th>245</th>\n",
       "      <td>Allah Ghazanfar</td>\n",
       "      <td>Un-Sold</td>\n",
       "      <td>Bowler</td>\n",
       "      <td>2000000</td>\n",
       "    </tr>\n",
       "  </tbody>\n",
       "</table>\n",
       "</div>"
      ],
      "text/plain": [
       "                PLAYERS     TEAM           TYPE    PRICE\n",
       "235  Jake Fraser-Mcgurk  Un-Sold    All-Rounder  2000000\n",
       "236         Duan Jansen  Un-Sold    All-Rounder  2000000\n",
       "237   Prenelan Subrayen  Un-Sold    All-Rounder  2000000\n",
       "238    William Salzmann  Un-Sold  Wicket-Keeper  2000000\n",
       "239    Ottneil Baartman  Un-Sold         Bowler  2000000\n",
       "240       Shamar Joseph  Un-Sold         Bowler  2000000\n",
       "241       Kwena Maphaka  Un-Sold         Bowler  2000000\n",
       "242    William O'Rourke  Un-Sold         Bowler  2000000\n",
       "243   Paul Van Meekeren  Un-Sold         Bowler  2000000\n",
       "244          Chris Wood  Un-Sold         Bowler  2000000\n",
       "245     Allah Ghazanfar  Un-Sold         Bowler  2000000"
      ]
     },
     "execution_count": 22,
     "metadata": {},
     "output_type": "execute_result"
    }
   ],
   "source": [
    "# Filtering only overseas players\n",
    "overseas_players = df[df['NATIONALITY'] != 'Indian']\n",
    "\n",
    "# Finding the cheapest overseas player\n",
    "min_price = overseas_players['PRICE'].min()\n",
    "cheapest_overseas = overseas_players[overseas_players['PRICE'] == min_price]\n",
    "\n",
    "print(\"Cheapest Overseas Player:\\n\")\n",
    "cheapest_overseas[['PLAYERS', 'TEAM', 'TYPE', 'PRICE']]"
   ]
  },
  {
   "cell_type": "markdown",
   "id": "811d178d-eb98-4e48-a3fb-7d6dea1cacbc",
   "metadata": {},
   "source": [
    "20.\tVisualize the distribution of player prices using a box plot or histogram"
   ]
  },
  {
   "cell_type": "code",
   "execution_count": 23,
   "id": "7c86a810-b591-4692-b9fb-81c978ada502",
   "metadata": {},
   "outputs": [],
   "source": [
    "import matplotlib.pyplot as plt\n",
    "import seaborn as sns"
   ]
  },
  {
   "cell_type": "code",
   "execution_count": 24,
   "id": "8410c01b-a571-42fd-9324-a5ff9bef21a8",
   "metadata": {},
   "outputs": [
    {
     "data": {
      "image/png": "[encoded data removed]",
      "text/plain": [
       "<Figure size 1000x100 with 1 Axes>"
      ]
     },
     "metadata": {},
     "output_type": "display_data"
    }
   ],
   "source": [
    "plt.figure(figsize=(10, 1))\n",
    "sns.boxplot(data=df, x='PRICE', color='skyblue')\n",
    "plt.title(\"Box Plot of Player Prices\")\n",
    "plt.xlabel(\"Price (₹)\")\n",
    "plt.show()"
   ]
  },
  {
   "cell_type": "code",
   "execution_count": 25,
   "id": "ca066ec0-aa1d-4e45-b9e1-bb01226c7d6c",
   "metadata": {},
   "outputs": [
    {
     "data": {
      "image/png": "[encoded data removed]",
      "text/plain": [
       "<Figure size 1000x500 with 1 Axes>"
      ]
     },
     "metadata": {},
     "output_type": "display_data"
    }
   ],
   "source": [
    "plt.figure(figsize=(10, 5))\n",
    "sns.histplot(df['PRICE'], bins=15, kde=True, color='salmon')\n",
    "plt.title(\"Histogram of Player Prices\")\n",
    "plt.xlabel(\"Price (₹)\")\n",
    "plt.ylabel(\"Number of Players\")\n",
    "plt.show()"
   ]
  },
  {
   "cell_type": "markdown",
   "id": "9376acdd-2138-4b92-bc7b-e0f630ac379f",
   "metadata": {},
   "source": [
    "Project 2 (Python + Stats)"
   ]
  },
  {
   "cell_type": "markdown",
   "id": "fe6fe5a7-2a8e-410a-bb4e-b65db1ea913e",
   "metadata": {},
   "source": [
    "Basic Exploration"
   ]
  },
  {
   "cell_type": "code",
   "execution_count": 26,
   "id": "3bfb748e-47cb-4822-943e-13de46886802",
   "metadata": {},
   "outputs": [
    {
     "data": {
      "text/html": [
       "<div>\n",
       "<style scoped>\n",
       "    .dataframe tbody tr th:only-of-type {\n",
       "        vertical-align: middle;\n",
       "    }\n",
       "\n",
       "    .dataframe tbody tr th {\n",
       "        vertical-align: top;\n",
       "    }\n",
       "\n",
       "    .dataframe thead th {\n",
       "        text-align: right;\n",
       "    }\n",
       "</style>\n",
       "<table border=\"1\" class=\"dataframe\">\n",
       "  <thead>\n",
       "    <tr style=\"text-align: right;\">\n",
       "      <th></th>\n",
       "      <th>id</th>\n",
       "      <th>season</th>\n",
       "      <th>city</th>\n",
       "      <th>date</th>\n",
       "      <th>match_type</th>\n",
       "      <th>player_of_match</th>\n",
       "      <th>venue</th>\n",
       "      <th>team1</th>\n",
       "      <th>team2</th>\n",
       "      <th>toss_winner</th>\n",
       "      <th>toss_decision</th>\n",
       "      <th>winner</th>\n",
       "      <th>result</th>\n",
       "      <th>result_margin</th>\n",
       "      <th>target_runs</th>\n",
       "      <th>target_overs</th>\n",
       "      <th>super_over</th>\n",
       "      <th>method</th>\n",
       "      <th>umpire1</th>\n",
       "      <th>umpire2</th>\n",
       "    </tr>\n",
       "  </thead>\n",
       "  <tbody>\n",
       "    <tr>\n",
       "      <th>0</th>\n",
       "      <td>335982</td>\n",
       "      <td>2008</td>\n",
       "      <td>Bangalore</td>\n",
       "      <td>2008-04-18</td>\n",
       "      <td>League</td>\n",
       "      <td>BB McCullum</td>\n",
       "      <td>M Chinnaswamy Stadium</td>\n",
       "      <td>Royal Challengers Bangalore</td>\n",
       "      <td>Kolkata Knight Riders</td>\n",
       "      <td>Royal Challengers Bangalore</td>\n",
       "      <td>field</td>\n",
       "      <td>Kolkata Knight Riders</td>\n",
       "      <td>runs</td>\n",
       "      <td>140.0</td>\n",
       "      <td>223.0</td>\n",
       "      <td>20.0</td>\n",
       "      <td>N</td>\n",
       "      <td>NaN</td>\n",
       "      <td>Asad Rauf</td>\n",
       "      <td>RE Koertzen</td>\n",
       "    </tr>\n",
       "    <tr>\n",
       "      <th>1</th>\n",
       "      <td>335983</td>\n",
       "      <td>2008</td>\n",
       "      <td>Chandigarh</td>\n",
       "      <td>2008-04-19</td>\n",
       "      <td>League</td>\n",
       "      <td>MEK Hussey</td>\n",
       "      <td>Punjab Cricket Association Stadium, Mohali</td>\n",
       "      <td>Kings XI Punjab</td>\n",
       "      <td>Chennai Super Kings</td>\n",
       "      <td>Chennai Super Kings</td>\n",
       "      <td>bat</td>\n",
       "      <td>Chennai Super Kings</td>\n",
       "      <td>runs</td>\n",
       "      <td>33.0</td>\n",
       "      <td>241.0</td>\n",
       "      <td>20.0</td>\n",
       "      <td>N</td>\n",
       "      <td>NaN</td>\n",
       "      <td>MR Benson</td>\n",
       "      <td>SL Shastri</td>\n",
       "    </tr>\n",
       "    <tr>\n",
       "      <th>2</th>\n",
       "      <td>335984</td>\n",
       "      <td>2008</td>\n",
       "      <td>Delhi</td>\n",
       "      <td>2008-04-19</td>\n",
       "      <td>League</td>\n",
       "      <td>MF Maharoof</td>\n",
       "      <td>Feroz Shah Kotla</td>\n",
       "      <td>Delhi Daredevils</td>\n",
       "      <td>Rajasthan Royals</td>\n",
       "      <td>Rajasthan Royals</td>\n",
       "      <td>bat</td>\n",
       "      <td>Delhi Daredevils</td>\n",
       "      <td>wickets</td>\n",
       "      <td>9.0</td>\n",
       "      <td>130.0</td>\n",
       "      <td>20.0</td>\n",
       "      <td>N</td>\n",
       "      <td>NaN</td>\n",
       "      <td>Aleem Dar</td>\n",
       "      <td>GA Pratapkumar</td>\n",
       "    </tr>\n",
       "    <tr>\n",
       "      <th>3</th>\n",
       "      <td>335985</td>\n",
       "      <td>2008</td>\n",
       "      <td>Mumbai</td>\n",
       "      <td>2008-04-20</td>\n",
       "      <td>League</td>\n",
       "      <td>MV Boucher</td>\n",
       "      <td>Wankhede Stadium</td>\n",
       "      <td>Mumbai Indians</td>\n",
       "      <td>Royal Challengers Bangalore</td>\n",
       "      <td>Mumbai Indians</td>\n",
       "      <td>bat</td>\n",
       "      <td>Royal Challengers Bangalore</td>\n",
       "      <td>wickets</td>\n",
       "      <td>5.0</td>\n",
       "      <td>166.0</td>\n",
       "      <td>20.0</td>\n",
       "      <td>N</td>\n",
       "      <td>NaN</td>\n",
       "      <td>SJ Davis</td>\n",
       "      <td>DJ Harper</td>\n",
       "    </tr>\n",
       "    <tr>\n",
       "      <th>4</th>\n",
       "      <td>335986</td>\n",
       "      <td>2008</td>\n",
       "      <td>Kolkata</td>\n",
       "      <td>2008-04-20</td>\n",
       "      <td>League</td>\n",
       "      <td>DJ Hussey</td>\n",
       "      <td>Eden Gardens</td>\n",
       "      <td>Kolkata Knight Riders</td>\n",
       "      <td>Deccan Chargers</td>\n",
       "      <td>Deccan Chargers</td>\n",
       "      <td>bat</td>\n",
       "      <td>Kolkata Knight Riders</td>\n",
       "      <td>wickets</td>\n",
       "      <td>5.0</td>\n",
       "      <td>111.0</td>\n",
       "      <td>20.0</td>\n",
       "      <td>N</td>\n",
       "      <td>NaN</td>\n",
       "      <td>BF Bowden</td>\n",
       "      <td>K Hariharan</td>\n",
       "    </tr>\n",
       "  </tbody>\n",
       "</table>\n",
       "</div>"
      ],
      "text/plain": [
       "       id  season        city       date match_type player_of_match  \\\n",
       "0  335982    2008   Bangalore 2008-04-18     League     BB McCullum   \n",
       "1  335983    2008  Chandigarh 2008-04-19     League      MEK Hussey   \n",
       "2  335984    2008       Delhi 2008-04-19     League     MF Maharoof   \n",
       "3  335985    2008      Mumbai 2008-04-20     League      MV Boucher   \n",
       "4  335986    2008     Kolkata 2008-04-20     League       DJ Hussey   \n",
       "\n",
       "                                        venue                        team1  \\\n",
       "0                       M Chinnaswamy Stadium  Royal Challengers Bangalore   \n",
       "1  Punjab Cricket Association Stadium, Mohali              Kings XI Punjab   \n",
       "2                            Feroz Shah Kotla             Delhi Daredevils   \n",
       "3                            Wankhede Stadium               Mumbai Indians   \n",
       "4                                Eden Gardens        Kolkata Knight Riders   \n",
       "\n",
       "                         team2                  toss_winner toss_decision  \\\n",
       "0        Kolkata Knight Riders  Royal Challengers Bangalore         field   \n",
       "1          Chennai Super Kings          Chennai Super Kings           bat   \n",
       "2             Rajasthan Royals             Rajasthan Royals           bat   \n",
       "3  Royal Challengers Bangalore               Mumbai Indians           bat   \n",
       "4              Deccan Chargers              Deccan Chargers           bat   \n",
       "\n",
       "                        winner   result  result_margin  target_runs  \\\n",
       "0        Kolkata Knight Riders     runs          140.0        223.0   \n",
       "1          Chennai Super Kings     runs           33.0        241.0   \n",
       "2             Delhi Daredevils  wickets            9.0        130.0   \n",
       "3  Royal Challengers Bangalore  wickets            5.0        166.0   \n",
       "4        Kolkata Knight Riders  wickets            5.0        111.0   \n",
       "\n",
       "   target_overs super_over method    umpire1         umpire2  \n",
       "0          20.0          N    NaN  Asad Rauf     RE Koertzen  \n",
       "1          20.0          N    NaN  MR Benson      SL Shastri  \n",
       "2          20.0          N    NaN  Aleem Dar  GA Pratapkumar  \n",
       "3          20.0          N    NaN   SJ Davis       DJ Harper  \n",
       "4          20.0          N    NaN  BF Bowden     K Hariharan  "
      ]
     },
     "execution_count": 26,
     "metadata": {},
     "output_type": "execute_result"
    }
   ],
   "source": [
    "df = pd.read_excel(\"C:\\\\Users\\\\sivashree\\\\Desktop\\\\Skillslash\\\\Project by Vikas\\\\Python Project\\\\matches_2008-2024.xlsx\")\n",
    "df.head()"
   ]
  },
  {
   "cell_type": "markdown",
   "id": "cf741452-28e7-4ecc-bdbc-e01ab65e25db",
   "metadata": {},
   "source": [
    "1.\tHow many matches were played in each city?"
   ]
  },
  {
   "cell_type": "code",
   "execution_count": 27,
   "id": "0addc340-29cf-46b2-937c-ac7c311c7a10",
   "metadata": {},
   "outputs": [
    {
     "name": "stdout",
     "output_type": "stream",
     "text": [
      "Matches played in each city:\n",
      "\n",
      "city\n",
      "Mumbai            173\n",
      "Kolkata            93\n",
      "Delhi              90\n",
      "Chennai            85\n",
      "Hyderabad          77\n",
      "Bangalore          65\n",
      "Chandigarh         61\n",
      "Jaipur             57\n",
      "Pune               51\n",
      "Abu Dhabi          37\n",
      "Ahmedabad          36\n",
      "Bengaluru          29\n",
      "Durban             15\n",
      "Visakhapatnam      15\n",
      "Lucknow            14\n",
      "Dubai              13\n",
      "Dharamsala         13\n",
      "Centurion          12\n",
      "Rajkot             10\n",
      "Sharjah            10\n",
      "Indore              9\n",
      "Navi Mumbai         9\n",
      "Johannesburg        8\n",
      "Cuttack             7\n",
      "Port Elizabeth      7\n",
      "Ranchi              7\n",
      "Cape Town           7\n",
      "Raipur              6\n",
      "Mohali              5\n",
      "Kochi               5\n",
      "Kanpur              4\n",
      "Kimberley           3\n",
      "East London         3\n",
      "Guwahati            3\n",
      "Nagpur              3\n",
      "Bloemfontein        2\n",
      "Name: count, dtype: int64\n"
     ]
    }
   ],
   "source": [
    "matches_per_city = df['city'].value_counts()\n",
    "print(\"Matches played in each city:\\n\")\n",
    "print(matches_per_city)"
   ]
  },
  {
   "cell_type": "markdown",
   "id": "c9391cc6-1e5c-45b5-a433-5c42c4a9d42b",
   "metadata": {},
   "source": [
    "2.\tWhat is the average target score across all matches?"
   ]
  },
  {
   "cell_type": "code",
   "execution_count": 28,
   "id": "b4fe6dd0-183f-46f2-bfc5-339ba4ae0fef",
   "metadata": {},
   "outputs": [
    {
     "name": "stdout",
     "output_type": "stream",
     "text": [
      "Average target score across all matches: 165.68\n"
     ]
    }
   ],
   "source": [
    "avg_target = df['target_runs'].mean()\n",
    "print(f\"Average target score across all matches: {avg_target:.2f}\")"
   ]
  },
  {
   "cell_type": "markdown",
   "id": "ca47558d-914b-4020-a413-d64629d212dd",
   "metadata": {},
   "source": [
    "3.\tHow many matches did each team win?"
   ]
  },
  {
   "cell_type": "markdown",
   "id": "b5465976-53ce-4614-9708-9b626f1e27d1",
   "metadata": {},
   "source": [
    "team_wins = df['winner'].value_counts()\n",
    "print(\"Number of matches won by each team:\\n\")\n",
    "print(team_wins)"
   ]
  },
  {
   "cell_type": "markdown",
   "id": "5a5a43ec-5494-4f0d-b41b-2486b82668c5",
   "metadata": {},
   "source": [
    "4.\tWhich player won the most \"Player of the Match\" awards?"
   ]
  },
  {
   "cell_type": "code",
   "execution_count": 29,
   "id": "1ad8ed35-61fd-43aa-a27d-dd58884b8fbf",
   "metadata": {},
   "outputs": [
    {
     "name": "stdout",
     "output_type": "stream",
     "text": [
      "The player with the most 'Player of the Match' awards is: AB de Villiers\n",
      "Total awards: 25\n"
     ]
    }
   ],
   "source": [
    "top_player = df['player_of_match'].value_counts().idxmax()\n",
    "top_awards = df['player_of_match'].value_counts().max()\n",
    "\n",
    "print(f\"The player with the most 'Player of the Match' awards is: {top_player}\")\n",
    "print(f\"Total awards: {top_awards}\")"
   ]
  },
  {
   "cell_type": "markdown",
   "id": "24ceb8cd-5589-4a75-afb1-31462c8f27ae",
   "metadata": {},
   "source": [
    "5.\tWhich venue hosted the most matches?"
   ]
  },
  {
   "cell_type": "code",
   "execution_count": 30,
   "id": "0881166f-908b-4e55-bcdd-84a78c81518d",
   "metadata": {},
   "outputs": [
    {
     "name": "stdout",
     "output_type": "stream",
     "text": [
      "The venue that hosted the most matches is: Eden Gardens\n",
      "Number of matches hosted: 77\n"
     ]
    }
   ],
   "source": [
    "top_venue = df['venue'].value_counts().idxmax()\n",
    "venue_matches = df['venue'].value_counts().max()\n",
    "\n",
    "print(f\"The venue that hosted the most matches is: {top_venue}\")\n",
    "print(f\"Number of matches hosted: {venue_matches}\")"
   ]
  },
  {
   "cell_type": "markdown",
   "id": "0c9311d1-7ee6-472d-b3ea-a3ae925f2ec6",
   "metadata": {},
   "source": [
    "Statistics & Aggregation"
   ]
  },
  {
   "cell_type": "markdown",
   "id": "5898ffe6-56a4-44b9-8751-4de9f7daab80",
   "metadata": {},
   "source": [
    "6.\tWhat is the mean, median, and standard deviation of result_margin for matches won by runs?"
   ]
  },
  {
   "cell_type": "code",
   "execution_count": 31,
   "id": "38960ca8-489e-4f5f-b7f0-47382d740357",
   "metadata": {},
   "outputs": [
    {
     "name": "stdout",
     "output_type": "stream",
     "text": [
      "Mean margin (runs): 30.10\n",
      "Median margin (runs): 22.0\n",
      "Standard Deviation (runs): 26.74\n"
     ]
    }
   ],
   "source": [
    "# Filtering matches won by runs\n",
    "won_by_runs = df[df['result'] == 'runs']\n",
    "\n",
    "# Calculating statistics\n",
    "mean_margin = won_by_runs['result_margin'].mean()\n",
    "median_margin = won_by_runs['result_margin'].median()\n",
    "std_margin = won_by_runs['result_margin'].std()\n",
    "\n",
    "print(f\"Mean margin (runs): {mean_margin:.2f}\")\n",
    "print(f\"Median margin (runs): {median_margin}\")\n",
    "print(f\"Standard Deviation (runs): {std_margin:.2f}\")"
   ]
  },
  {
   "cell_type": "markdown",
   "id": "c220d6b6-121a-4b9e-9fa6-5453e410e047",
   "metadata": {},
   "source": [
    "7.\tWhat is the correlation between target_runs and result_margin (for matches won by runs only)?"
   ]
  },
  {
   "cell_type": "code",
   "execution_count": 32,
   "id": "b9d3ee8b-df3d-4d9f-847e-d8eacb69728f",
   "metadata": {},
   "outputs": [
    {
     "name": "stdout",
     "output_type": "stream",
     "text": [
      "Correlation between target score and win margin (runs): 0.361\n"
     ]
    }
   ],
   "source": [
    "# Filtering for matches won by runs\n",
    "won_by_runs = df[df['result'] == 'runs']\n",
    "\n",
    "# Correlation between target_runs and result_margin\n",
    "correlation = won_by_runs['target_runs'].corr(won_by_runs['result_margin'])\n",
    "\n",
    "print(f\"Correlation between target score and win margin (runs): {correlation:.3f}\")"
   ]
  },
  {
   "cell_type": "markdown",
   "id": "fe4aa5a7-28e4-4488-a3d6-d0689719131b",
   "metadata": {},
   "source": [
    "8.\tCalculate the win percentage of each team."
   ]
  },
  {
   "cell_type": "code",
   "execution_count": 33,
   "id": "d55a87ff-e12d-4c83-aab2-0fa92be8b8b4",
   "metadata": {},
   "outputs": [
    {
     "name": "stdout",
     "output_type": "stream",
     "text": [
      "Win Percentage by Team:\n",
      "\n",
      "Rising Pune Supergiant         62.50\n",
      "Gujarat Titans                 62.22\n",
      "Chennai Super Kings            57.98\n",
      "Mumbai Indians                 55.17\n",
      "Lucknow Super Giants           54.55\n",
      "Delhi Capitals                 52.75\n",
      "Kolkata Knight Riders          52.19\n",
      "Rajasthan Royals               50.68\n",
      "Sunrisers Hyderabad            48.35\n",
      "Royal Challengers Bangalore    48.33\n",
      "Royal Challengers Bengaluru    46.67\n",
      "Kings XI Punjab                46.32\n",
      "Gujarat Lions                  43.33\n",
      "Kochi Tuskers Kerala           42.86\n",
      "Punjab Kings                   42.86\n",
      "Delhi Daredevils               41.61\n",
      "Deccan Chargers                38.67\n",
      "Rising Pune Supergiants        35.71\n",
      "Pune Warriors                  26.09\n",
      "Name: count, dtype: float64\n"
     ]
    }
   ],
   "source": [
    "# Total matches played per team\n",
    "matches_played = df['team1'].value_counts() + df['team2'].value_counts()\n",
    "# Total matches won per team\n",
    "matches_won = df['winner'].value_counts()\n",
    "\n",
    "# Win percentage\n",
    "win_percentage = (matches_won / matches_played * 100).round(2)\n",
    "\n",
    "print(\"Win Percentage by Team:\\n\")\n",
    "print(win_percentage.sort_values(ascending=False))\n"
   ]
  },
  {
   "cell_type": "markdown",
   "id": "5ee31880-7182-446e-a43e-fa51b434f1b3",
   "metadata": {},
   "source": [
    "9.\tWhat is the distribution of matches won by wickets vs. by runs?"
   ]
  },
  {
   "cell_type": "code",
   "execution_count": 34,
   "id": "1ee80c79-49b6-4e20-8d4c-11b8ef31e0fb",
   "metadata": {},
   "outputs": [
    {
     "name": "stdout",
     "output_type": "stream",
     "text": [
      "Distribution of matches won by:\n",
      "\n",
      "result\n",
      "wickets      578\n",
      "runs         498\n",
      "tie           14\n",
      "no result      5\n",
      "Name: count, dtype: int64\n"
     ]
    }
   ],
   "source": [
    "# Counting how many matches were won by runs vs wickets\n",
    "win_distribution = df['result'].value_counts()\n",
    "\n",
    "print(\"Distribution of matches won by:\\n\")\n",
    "print(win_distribution)"
   ]
  },
  {
   "cell_type": "code",
   "execution_count": 35,
   "id": "62ccda31-ad90-4cd4-bd69-2d5c5142f74d",
   "metadata": {},
   "outputs": [
    {
     "data": {
      "image/png": "[encoded data removed]",
      "text/plain": [
       "<Figure size 640x480 with 1 Axes>"
      ]
     },
     "metadata": {},
     "output_type": "display_data"
    }
   ],
   "source": [
    "win_distribution.plot(kind='pie', autopct='%1.1f%%', colors=['skyblue', 'lightgreen'], startangle=140)\n",
    "plt.title(\"Match Win Distribution: Runs vs Wickets\")\n",
    "plt.ylabel(\"\")  # Hide y-axis label\n",
    "plt.show()"
   ]
  },
  {
   "cell_type": "markdown",
   "id": "4d9e7dce-f79e-46e1-ae64-563022a8ac70",
   "metadata": {},
   "source": [
    "10.\tIs there a significant difference in the average target score when the toss decision is \"bat\" vs \"field\"?"
   ]
  },
  {
   "cell_type": "code",
   "execution_count": 36,
   "id": "008d48d4-eb9d-41d5-a776-02b7c7163829",
   "metadata": {},
   "outputs": [
    {
     "name": "stdout",
     "output_type": "stream",
     "text": [
      "Average Target Score by Toss Decision:\n",
      "\n",
      "toss_decision\n",
      "bat      160.65\n",
      "field    168.48\n",
      "Name: target_runs, dtype: float64\n"
     ]
    }
   ],
   "source": [
    "# Group by toss decision and calculate average target score\n",
    "avg_target_by_toss = df.groupby('toss_decision')['target_runs'].mean().round(2)\n",
    "\n",
    "print(\"Average Target Score by Toss Decision:\\n\")\n",
    "print(avg_target_by_toss)\n"
   ]
  },
  {
   "cell_type": "markdown",
   "id": "a558959c-028d-4df4-9649-106a62ede025",
   "metadata": {},
   "source": [
    "Filtering & Grouping"
   ]
  },
  {
   "cell_type": "markdown",
   "id": "aa5a7c81-4ed8-4da2-ae70-0aac3366cec8",
   "metadata": {},
   "source": [
    "11.\tHow many matches went into a super over?"
   ]
  },
  {
   "cell_type": "code",
   "execution_count": 37,
   "id": "2cb4da00-1043-459c-897c-09e516bd1f66",
   "metadata": {},
   "outputs": [
    {
     "name": "stdout",
     "output_type": "stream",
     "text": [
      "Number of matches with a Super Over: 0\n"
     ]
    }
   ],
   "source": [
    "super_over_matches = df[df['super_over'] == 'Yes']\n",
    "print(f\"Number of matches with a Super Over: {len(super_over_matches)}\")"
   ]
  },
  {
   "cell_type": "code",
   "execution_count": 38,
   "id": "7fb80754-8183-4c57-9deb-941f7bc0f8e9",
   "metadata": {},
   "outputs": [
    {
     "data": {
      "text/html": [
       "<div>\n",
       "<style scoped>\n",
       "    .dataframe tbody tr th:only-of-type {\n",
       "        vertical-align: middle;\n",
       "    }\n",
       "\n",
       "    .dataframe tbody tr th {\n",
       "        vertical-align: top;\n",
       "    }\n",
       "\n",
       "    .dataframe thead th {\n",
       "        text-align: right;\n",
       "    }\n",
       "</style>\n",
       "<table border=\"1\" class=\"dataframe\">\n",
       "  <thead>\n",
       "    <tr style=\"text-align: right;\">\n",
       "      <th></th>\n",
       "      <th>city</th>\n",
       "      <th>date</th>\n",
       "      <th>team1</th>\n",
       "      <th>team2</th>\n",
       "      <th>winner</th>\n",
       "    </tr>\n",
       "  </thead>\n",
       "  <tbody>\n",
       "  </tbody>\n",
       "</table>\n",
       "</div>"
      ],
      "text/plain": [
       "Empty DataFrame\n",
       "Columns: [city, date, team1, team2, winner]\n",
       "Index: []"
      ]
     },
     "execution_count": 38,
     "metadata": {},
     "output_type": "execute_result"
    }
   ],
   "source": [
    "super_over_matches[['city', 'date', 'team1', 'team2', 'winner']]"
   ]
  },
  {
   "cell_type": "markdown",
   "id": "76cb076c-089d-4cc8-abc3-80f179cd323b",
   "metadata": {},
   "source": [
    "12.\tWhich umpires have officiated the most matches together (umpire1 & umpire2 pair)?"
   ]
  },
  {
   "cell_type": "code",
   "execution_count": 39,
   "id": "7809a5cf-82e2-4825-bd2c-83734aa138b4",
   "metadata": {},
   "outputs": [
    {
     "name": "stdout",
     "output_type": "stream",
     "text": [
      "The most common umpire pair: ('C Shamshuddin', 'S Ravi')\n",
      "Matches officiated together: 13\n"
     ]
    }
   ],
   "source": [
    "# Creating sorted tuple of umpire pairs (so (A, B) and (B, A) are treated the same)\n",
    "umpire_pairs = df.apply(lambda row: tuple(sorted([row['umpire1'], row['umpire2']])), axis=1)\n",
    "\n",
    "# Counting occurrences of each pair\n",
    "umpire_pair_counts = umpire_pairs.value_counts()\n",
    "\n",
    "#The most common pair\n",
    "most_common_pair = umpire_pair_counts.idxmax()\n",
    "most_common_count = umpire_pair_counts.max()\n",
    "\n",
    "print(f\"The most common umpire pair: {most_common_pair}\")\n",
    "print(f\"Matches officiated together: {most_common_count}\")"
   ]
  },
  {
   "cell_type": "markdown",
   "id": "320737cb-94c3-4ff7-bed2-4e2f0329d934",
   "metadata": {},
   "source": [
    "13.\tFind the match with the highest result margin (by runs or wickets)"
   ]
  },
  {
   "cell_type": "code",
   "execution_count": 40,
   "id": "90cc6c2d-3e27-43da-8b2c-3769b174a2a2",
   "metadata": {},
   "outputs": [
    {
     "name": "stdout",
     "output_type": "stream",
     "text": [
      "Match with the highest result margin:\n",
      "\n",
      "          date   city             team1           team2          winner  \\\n",
      "620 2017-05-06  Delhi  Delhi Daredevils  Mumbai Indians  Mumbai Indians   \n",
      "\n",
      "    result  result_margin  \n",
      "620   runs          146.0  \n"
     ]
    }
   ],
   "source": [
    "# Finding the match with the highest result margin\n",
    "max_margin = df['result_margin'].max()\n",
    "biggest_win = df[df['result_margin'] == max_margin]\n",
    "\n",
    "print(\"Match with the highest result margin:\\n\")\n",
    "print(biggest_win[['date', 'city', 'team1', 'team2', 'winner', 'result', 'result_margin']])"
   ]
  },
  {
   "cell_type": "markdown",
   "id": "f6444666-75ce-4de4-93ad-0bce35ae0bcc",
   "metadata": {},
   "source": [
    "14.\tWhich toss decision (bat/field) led to more wins?"
   ]
  },
  {
   "cell_type": "code",
   "execution_count": 41,
   "id": "c3dacfbe-fe15-479b-b97d-472f059ba425",
   "metadata": {},
   "outputs": [
    {
     "name": "stdout",
     "output_type": "stream",
     "text": [
      "Wins based on toss decision:\n",
      "\n",
      "toss_decision\n",
      "field    377\n",
      "bat      177\n",
      "Name: count, dtype: int64\n"
     ]
    }
   ],
   "source": [
    "# Filtering where toss winner also won the match\n",
    "toss_win_and_match_win = df[df['toss_winner'] == df['winner']]\n",
    "\n",
    "# Counting toss decisions in those matches\n",
    "decision_success = toss_win_and_match_win['toss_decision'].value_counts()\n",
    "\n",
    "print(\"Wins based on toss decision:\\n\")\n",
    "print(decision_success)"
   ]
  },
  {
   "cell_type": "markdown",
   "id": "7542a209-f950-4288-aece-4e94d7f6b6b2",
   "metadata": {},
   "source": [
    "15.\tWhich teams have the highest win ratio when winning the toss?"
   ]
  },
  {
   "cell_type": "code",
   "execution_count": 42,
   "id": "9fbe5ece-a4d0-4d4a-8665-cdd27085a1cf",
   "metadata": {},
   "outputs": [
    {
     "name": "stdout",
     "output_type": "stream",
     "text": [
      "Win Ratio After Winning Toss (in %):\n",
      "\n",
      "toss_winner\n",
      "Rising Pune Supergiant         83.33\n",
      "Gujarat Lions                  66.67\n",
      "Gujarat Titans                 63.64\n",
      "Chennai Super Kings            61.48\n",
      "Kolkata Knight Riders          55.74\n",
      "Mumbai Indians                 54.55\n",
      "Lucknow Super Giants           52.63\n",
      "Delhi Capitals                 52.00\n",
      "Royal Challengers Bangalore    50.44\n",
      "Kochi Tuskers Kerala           50.00\n",
      "Rajasthan Royals               50.00\n",
      "Royal Challengers Bengaluru    50.00\n",
      "Deccan Chargers                44.19\n",
      "Delhi Daredevils               43.75\n",
      "Sunrisers Hyderabad            43.18\n",
      "Rising Pune Supergiants        42.86\n",
      "Kings XI Punjab                42.35\n",
      "Punjab Kings                   37.50\n",
      "Pune Warriors                  15.00\n",
      "Name: count, dtype: float64\n"
     ]
    }
   ],
   "source": [
    "# Total tosses won per team\n",
    "toss_wins = df['toss_winner'].value_counts()\n",
    "\n",
    "# Matches where toss winner also won the match\n",
    "match_and_toss_wins = df[df['toss_winner'] == df['winner']]['toss_winner'].value_counts()\n",
    "\n",
    "# Win ratio\n",
    "toss_win_ratio = (match_and_toss_wins / toss_wins * 100).round(2)\n",
    "\n",
    "print(\"Win Ratio After Winning Toss (in %):\\n\")\n",
    "print(toss_win_ratio.sort_values(ascending=False))"
   ]
  },
  {
   "cell_type": "markdown",
   "id": "343c21b5-3832-436d-8185-d5e4f6a2ce67",
   "metadata": {},
   "source": [
    "Project 3 (Python + ML)"
   ]
  },
  {
   "cell_type": "code",
   "execution_count": 3,
   "id": "e557a688-1752-4e8b-8df6-4296b1db3192",
   "metadata": {},
   "outputs": [
    {
     "data": {
      "text/html": [
       "<div>\n",
       "<style scoped>\n",
       "    .dataframe tbody tr th:only-of-type {\n",
       "        vertical-align: middle;\n",
       "    }\n",
       "\n",
       "    .dataframe tbody tr th {\n",
       "        vertical-align: top;\n",
       "    }\n",
       "\n",
       "    .dataframe thead th {\n",
       "        text-align: right;\n",
       "    }\n",
       "</style>\n",
       "<table border=\"1\" class=\"dataframe\">\n",
       "  <thead>\n",
       "    <tr style=\"text-align: right;\">\n",
       "      <th></th>\n",
       "      <th>match_id</th>\n",
       "      <th>inning</th>\n",
       "      <th>batting_team</th>\n",
       "      <th>bowling_team</th>\n",
       "      <th>over</th>\n",
       "      <th>ball</th>\n",
       "      <th>batter</th>\n",
       "      <th>bowler</th>\n",
       "      <th>non_striker</th>\n",
       "      <th>batsman_runs</th>\n",
       "      <th>extra_runs</th>\n",
       "      <th>total_runs</th>\n",
       "      <th>extras_type</th>\n",
       "      <th>is_wicket</th>\n",
       "      <th>player_dismissed</th>\n",
       "      <th>dismissal_kind</th>\n",
       "      <th>fielder</th>\n",
       "    </tr>\n",
       "  </thead>\n",
       "  <tbody>\n",
       "    <tr>\n",
       "      <th>0</th>\n",
       "      <td>335982</td>\n",
       "      <td>1</td>\n",
       "      <td>Kolkata Knight Riders</td>\n",
       "      <td>Royal Challengers Bangalore</td>\n",
       "      <td>0</td>\n",
       "      <td>1</td>\n",
       "      <td>SC Ganguly</td>\n",
       "      <td>P Kumar</td>\n",
       "      <td>BB McCullum</td>\n",
       "      <td>0</td>\n",
       "      <td>1</td>\n",
       "      <td>1</td>\n",
       "      <td>legbyes</td>\n",
       "      <td>0</td>\n",
       "      <td>NaN</td>\n",
       "      <td>NaN</td>\n",
       "      <td>NaN</td>\n",
       "    </tr>\n",
       "    <tr>\n",
       "      <th>1</th>\n",
       "      <td>335982</td>\n",
       "      <td>1</td>\n",
       "      <td>Kolkata Knight Riders</td>\n",
       "      <td>Royal Challengers Bangalore</td>\n",
       "      <td>0</td>\n",
       "      <td>2</td>\n",
       "      <td>BB McCullum</td>\n",
       "      <td>P Kumar</td>\n",
       "      <td>SC Ganguly</td>\n",
       "      <td>0</td>\n",
       "      <td>0</td>\n",
       "      <td>0</td>\n",
       "      <td>NaN</td>\n",
       "      <td>0</td>\n",
       "      <td>NaN</td>\n",
       "      <td>NaN</td>\n",
       "      <td>NaN</td>\n",
       "    </tr>\n",
       "    <tr>\n",
       "      <th>2</th>\n",
       "      <td>335982</td>\n",
       "      <td>1</td>\n",
       "      <td>Kolkata Knight Riders</td>\n",
       "      <td>Royal Challengers Bangalore</td>\n",
       "      <td>0</td>\n",
       "      <td>3</td>\n",
       "      <td>BB McCullum</td>\n",
       "      <td>P Kumar</td>\n",
       "      <td>SC Ganguly</td>\n",
       "      <td>0</td>\n",
       "      <td>1</td>\n",
       "      <td>1</td>\n",
       "      <td>wides</td>\n",
       "      <td>0</td>\n",
       "      <td>NaN</td>\n",
       "      <td>NaN</td>\n",
       "      <td>NaN</td>\n",
       "    </tr>\n",
       "    <tr>\n",
       "      <th>3</th>\n",
       "      <td>335982</td>\n",
       "      <td>1</td>\n",
       "      <td>Kolkata Knight Riders</td>\n",
       "      <td>Royal Challengers Bangalore</td>\n",
       "      <td>0</td>\n",
       "      <td>4</td>\n",
       "      <td>BB McCullum</td>\n",
       "      <td>P Kumar</td>\n",
       "      <td>SC Ganguly</td>\n",
       "      <td>0</td>\n",
       "      <td>0</td>\n",
       "      <td>0</td>\n",
       "      <td>NaN</td>\n",
       "      <td>0</td>\n",
       "      <td>NaN</td>\n",
       "      <td>NaN</td>\n",
       "      <td>NaN</td>\n",
       "    </tr>\n",
       "    <tr>\n",
       "      <th>4</th>\n",
       "      <td>335982</td>\n",
       "      <td>1</td>\n",
       "      <td>Kolkata Knight Riders</td>\n",
       "      <td>Royal Challengers Bangalore</td>\n",
       "      <td>0</td>\n",
       "      <td>5</td>\n",
       "      <td>BB McCullum</td>\n",
       "      <td>P Kumar</td>\n",
       "      <td>SC Ganguly</td>\n",
       "      <td>0</td>\n",
       "      <td>0</td>\n",
       "      <td>0</td>\n",
       "      <td>NaN</td>\n",
       "      <td>0</td>\n",
       "      <td>NaN</td>\n",
       "      <td>NaN</td>\n",
       "      <td>NaN</td>\n",
       "    </tr>\n",
       "  </tbody>\n",
       "</table>\n",
       "</div>"
      ],
      "text/plain": [
       "   match_id  inning           batting_team                 bowling_team  over  \\\n",
       "0    335982       1  Kolkata Knight Riders  Royal Challengers Bangalore     0   \n",
       "1    335982       1  Kolkata Knight Riders  Royal Challengers Bangalore     0   \n",
       "2    335982       1  Kolkata Knight Riders  Royal Challengers Bangalore     0   \n",
       "3    335982       1  Kolkata Knight Riders  Royal Challengers Bangalore     0   \n",
       "4    335982       1  Kolkata Knight Riders  Royal Challengers Bangalore     0   \n",
       "\n",
       "   ball       batter   bowler  non_striker  batsman_runs  extra_runs  \\\n",
       "0     1   SC Ganguly  P Kumar  BB McCullum             0           1   \n",
       "1     2  BB McCullum  P Kumar   SC Ganguly             0           0   \n",
       "2     3  BB McCullum  P Kumar   SC Ganguly             0           1   \n",
       "3     4  BB McCullum  P Kumar   SC Ganguly             0           0   \n",
       "4     5  BB McCullum  P Kumar   SC Ganguly             0           0   \n",
       "\n",
       "   total_runs extras_type  is_wicket player_dismissed dismissal_kind fielder  \n",
       "0           1     legbyes          0              NaN            NaN     NaN  \n",
       "1           0         NaN          0              NaN            NaN     NaN  \n",
       "2           1       wides          0              NaN            NaN     NaN  \n",
       "3           0         NaN          0              NaN            NaN     NaN  \n",
       "4           0         NaN          0              NaN            NaN     NaN  "
      ]
     },
     "execution_count": 3,
     "metadata": {},
     "output_type": "execute_result"
    }
   ],
   "source": [
    "df = pd.read_excel(\"C:\\\\Users\\\\sivashree\\\\Desktop\\\\Skillslash\\\\Project by Vikas\\\\Python Project\\\\deliveries_2008-2024.xlsx\")\n",
    "df.head()"
   ]
  },
  {
   "cell_type": "markdown",
   "id": "b51dfa36-d381-497e-989f-b6e9440e564c",
   "metadata": {},
   "source": [
    "🔄 Feature Engineering / Data Preparation"
   ]
  },
  {
   "cell_type": "markdown",
   "id": "cc414d05-4d91-48dc-acac-5e5c2ed448d2",
   "metadata": {},
   "source": [
    "1.\tHow would you preprocess this ball-by-ball data to predict the final score of an inning?"
   ]
  },
  {
   "cell_type": "code",
   "execution_count": 4,
   "id": "9e99f96e-6494-4ecc-a3d3-353d31371128",
   "metadata": {},
   "outputs": [],
   "source": [
    "# Basic per-over stats\n",
    "over_summary = df.groupby(['match_id', 'inning', 'over']).agg(\n",
    "    runs_in_over=('total_runs', 'sum'),\n",
    "    wickets_in_over=('is_wicket', 'sum'),\n",
    "    boundaries=('batsman_runs', lambda x: ((x == 4) | (x == 6)).sum()),\n",
    "    extras_in_over=('extra_runs', 'sum')\n",
    ").reset_index()\n",
    "\n",
    "# Cumulative stats\n",
    "over_summary['cumulative_runs'] = over_summary.groupby(['match_id', 'inning'])['runs_in_over'].cumsum()\n",
    "over_summary['cumulative_wickets'] = over_summary.groupby(['match_id', 'inning'])['wickets_in_over'].cumsum()\n",
    "\n",
    "# Momentum feature (runs in last 2 overs)\n",
    "over_summary['runs_last_2_overs'] = (\n",
    "    over_summary.groupby(['match_id', 'inning'])['runs_in_over']\n",
    "    .rolling(window=2, min_periods=1).sum().reset_index(drop=True)\n",
    ")"
   ]
  },
  {
   "cell_type": "code",
   "execution_count": 5,
   "id": "72412ca8-0f10-4d6d-b463-4f6b72950c42",
   "metadata": {},
   "outputs": [],
   "source": [
    "from sklearn.model_selection import train_test_split\n",
    "from sklearn.ensemble import RandomForestRegressor\n",
    "from sklearn.metrics import mean_absolute_error, r2_score\n",
    "\n",
    "# Filtering only overs up to a certain point (e.g., first 15 overs)\n",
    "data = over_summary.copy()\n",
    "final_scores = data.groupby(['match_id', 'inning'])['cumulative_runs'].max().reset_index()\n",
    "final_scores.rename(columns={'cumulative_runs': 'final_score'}, inplace=True)\n",
    "\n",
    "# Merging to get final score on each row\n",
    "data = data.merge(final_scores, on=['match_id', 'inning'])\n",
    "\n",
    "# Selecting features and target\n",
    "features = ['over', 'runs_in_over', 'wickets_in_over', 'boundaries', 'extras_in_over', \n",
    "            'cumulative_runs', 'cumulative_wickets', 'runs_last_2_overs']\n",
    "target = 'final_score'\n",
    "\n",
    "# Filtering rows only for early overs (e.g., first 10)\n",
    "data_model = data[data['over'] <= 10]  # Can tune to 5, 6, 8 overs, etc.\n",
    "\n",
    "# Train-test split\n",
    "X = data_model[features]\n",
    "y = data_model[target]\n",
    "\n",
    "X_train, X_test, y_train, y_test = train_test_split(X, y, test_size=0.2, random_state=42)"
   ]
  },
  {
   "cell_type": "code",
   "execution_count": 6,
   "id": "e94a767b-8df1-4662-90a3-f7aebe56ca65",
   "metadata": {},
   "outputs": [
    {
     "data": {
      "text/html": [
       "<style>#sk-container-id-1 {\n",
       "  /* Definition of color scheme common for light and dark mode */\n",
       "  --sklearn-color-text: black;\n",
       "  --sklearn-color-line: gray;\n",
       "  /* Definition of color scheme for unfitted estimators */\n",
       "  --sklearn-color-unfitted-level-0: #fff5e6;\n",
       "  --sklearn-color-unfitted-level-1: #f6e4d2;\n",
       "  --sklearn-color-unfitted-level-2: #ffe0b3;\n",
       "  --sklearn-color-unfitted-level-3: chocolate;\n",
       "  /* Definition of color scheme for fitted estimators */\n",
       "  --sklearn-color-fitted-level-0: #f0f8ff;\n",
       "  --sklearn-color-fitted-level-1: #d4ebff;\n",
       "  --sklearn-color-fitted-level-2: #b3dbfd;\n",
       "  --sklearn-color-fitted-level-3: cornflowerblue;\n",
       "\n",
       "  /* Specific color for light theme */\n",
       "  --sklearn-color-text-on-default-background: var(--sg-text-color, var(--theme-code-foreground, var(--jp-content-font-color1, black)));\n",
       "  --sklearn-color-background: var(--sg-background-color, var(--theme-background, var(--jp-layout-color0, white)));\n",
       "  --sklearn-color-border-box: var(--sg-text-color, var(--theme-code-foreground, var(--jp-content-font-color1, black)));\n",
       "  --sklearn-color-icon: #696969;\n",
       "\n",
       "  @media (prefers-color-scheme: dark) {\n",
       "    /* Redefinition of color scheme for dark theme */\n",
       "    --sklearn-color-text-on-default-background: var(--sg-text-color, var(--theme-code-foreground, var(--jp-content-font-color1, white)));\n",
       "    --sklearn-color-background: var(--sg-background-color, var(--theme-background, var(--jp-layout-color0, #111)));\n",
       "    --sklearn-color-border-box: var(--sg-text-color, var(--theme-code-foreground, var(--jp-content-font-color1, white)));\n",
       "    --sklearn-color-icon: #878787;\n",
       "  }\n",
       "}\n",
       "\n",
       "#sk-container-id-1 {\n",
       "  color: var(--sklearn-color-text);\n",
       "}\n",
       "\n",
       "#sk-container-id-1 pre {\n",
       "  padding: 0;\n",
       "}\n",
       "\n",
       "#sk-container-id-1 input.sk-hidden--visually {\n",
       "  border: 0;\n",
       "  clip: rect(1px 1px 1px 1px);\n",
       "  clip: rect(1px, 1px, 1px, 1px);\n",
       "  height: 1px;\n",
       "  margin: -1px;\n",
       "  overflow: hidden;\n",
       "  padding: 0;\n",
       "  position: absolute;\n",
       "  width: 1px;\n",
       "}\n",
       "\n",
       "#sk-container-id-1 div.sk-dashed-wrapped {\n",
       "  border: 1px dashed var(--sklearn-color-line);\n",
       "  margin: 0 0.4em 0.5em 0.4em;\n",
       "  box-sizing: border-box;\n",
       "  padding-bottom: 0.4em;\n",
       "  background-color: var(--sklearn-color-background);\n",
       "}\n",
       "\n",
       "#sk-container-id-1 div.sk-container {\n",
       "  /* jupyter's `normalize.less` sets `[hidden] { display: none; }`\n",
       "     but bootstrap.min.css set `[hidden] { display: none !important; }`\n",
       "     so we also need the `!important` here to be able to override the\n",
       "     default hidden behavior on the sphinx rendered scikit-learn.org.\n",
       "     See: https://github.com/scikit-learn/scikit-learn/issues/21755 */\n",
       "  display: inline-block !important;\n",
       "  position: relative;\n",
       "}\n",
       "\n",
       "#sk-container-id-1 div.sk-text-repr-fallback {\n",
       "  display: none;\n",
       "}\n",
       "\n",
       "div.sk-parallel-item,\n",
       "div.sk-serial,\n",
       "div.sk-item {\n",
       "  /* draw centered vertical line to link estimators */\n",
       "  background-image: linear-gradient(var(--sklearn-color-text-on-default-background), var(--sklearn-color-text-on-default-background));\n",
       "  background-size: 2px 100%;\n",
       "  background-repeat: no-repeat;\n",
       "  background-position: center center;\n",
       "}\n",
       "\n",
       "/* Parallel-specific style estimator block */\n",
       "\n",
       "#sk-container-id-1 div.sk-parallel-item::after {\n",
       "  content: \"\";\n",
       "  width: 100%;\n",
       "  border-bottom: 2px solid var(--sklearn-color-text-on-default-background);\n",
       "  flex-grow: 1;\n",
       "}\n",
       "\n",
       "#sk-container-id-1 div.sk-parallel {\n",
       "  display: flex;\n",
       "  align-items: stretch;\n",
       "  justify-content: center;\n",
       "  background-color: var(--sklearn-color-background);\n",
       "  position: relative;\n",
       "}\n",
       "\n",
       "#sk-container-id-1 div.sk-parallel-item {\n",
       "  display: flex;\n",
       "  flex-direction: column;\n",
       "}\n",
       "\n",
       "#sk-container-id-1 div.sk-parallel-item:first-child::after {\n",
       "  align-self: flex-end;\n",
       "  width: 50%;\n",
       "}\n",
       "\n",
       "#sk-container-id-1 div.sk-parallel-item:last-child::after {\n",
       "  align-self: flex-start;\n",
       "  width: 50%;\n",
       "}\n",
       "\n",
       "#sk-container-id-1 div.sk-parallel-item:only-child::after {\n",
       "  width: 0;\n",
       "}\n",
       "\n",
       "/* Serial-specific style estimator block */\n",
       "\n",
       "#sk-container-id-1 div.sk-serial {\n",
       "  display: flex;\n",
       "  flex-direction: column;\n",
       "  align-items: center;\n",
       "  background-color: var(--sklearn-color-background);\n",
       "  padding-right: 1em;\n",
       "  padding-left: 1em;\n",
       "}\n",
       "\n",
       "\n",
       "/* Toggleable style: style used for estimator/Pipeline/ColumnTransformer box that is\n",
       "clickable and can be expanded/collapsed.\n",
       "- Pipeline and ColumnTransformer use this feature and define the default style\n",
       "- Estimators will overwrite some part of the style using the `sk-estimator` class\n",
       "*/\n",
       "\n",
       "/* Pipeline and ColumnTransformer style (default) */\n",
       "\n",
       "#sk-container-id-1 div.sk-toggleable {\n",
       "  /* Default theme specific background. It is overwritten whether we have a\n",
       "  specific estimator or a Pipeline/ColumnTransformer */\n",
       "  background-color: var(--sklearn-color-background);\n",
       "}\n",
       "\n",
       "/* Toggleable label */\n",
       "#sk-container-id-1 label.sk-toggleable__label {\n",
       "  cursor: pointer;\n",
       "  display: block;\n",
       "  width: 100%;\n",
       "  margin-bottom: 0;\n",
       "  padding: 0.5em;\n",
       "  box-sizing: border-box;\n",
       "  text-align: center;\n",
       "}\n",
       "\n",
       "#sk-container-id-1 label.sk-toggleable__label-arrow:before {\n",
       "  /* Arrow on the left of the label */\n",
       "  content: \"▸\";\n",
       "  float: left;\n",
       "  margin-right: 0.25em;\n",
       "  color: var(--sklearn-color-icon);\n",
       "}\n",
       "\n",
       "#sk-container-id-1 label.sk-toggleable__label-arrow:hover:before {\n",
       "  color: var(--sklearn-color-text);\n",
       "}\n",
       "\n",
       "/* Toggleable content - dropdown */\n",
       "\n",
       "#sk-container-id-1 div.sk-toggleable__content {\n",
       "  max-height: 0;\n",
       "  max-width: 0;\n",
       "  overflow: hidden;\n",
       "  text-align: left;\n",
       "  /* unfitted */\n",
       "  background-color: var(--sklearn-color-unfitted-level-0);\n",
       "}\n",
       "\n",
       "#sk-container-id-1 div.sk-toggleable__content.fitted {\n",
       "  /* fitted */\n",
       "  background-color: var(--sklearn-color-fitted-level-0);\n",
       "}\n",
       "\n",
       "#sk-container-id-1 div.sk-toggleable__content pre {\n",
       "  margin: 0.2em;\n",
       "  border-radius: 0.25em;\n",
       "  color: var(--sklearn-color-text);\n",
       "  /* unfitted */\n",
       "  background-color: var(--sklearn-color-unfitted-level-0);\n",
       "}\n",
       "\n",
       "#sk-container-id-1 div.sk-toggleable__content.fitted pre {\n",
       "  /* unfitted */\n",
       "  background-color: var(--sklearn-color-fitted-level-0);\n",
       "}\n",
       "\n",
       "#sk-container-id-1 input.sk-toggleable__control:checked~div.sk-toggleable__content {\n",
       "  /* Expand drop-down */\n",
       "  max-height: 200px;\n",
       "  max-width: 100%;\n",
       "  overflow: auto;\n",
       "}\n",
       "\n",
       "#sk-container-id-1 input.sk-toggleable__control:checked~label.sk-toggleable__label-arrow:before {\n",
       "  content: \"▾\";\n",
       "}\n",
       "\n",
       "/* Pipeline/ColumnTransformer-specific style */\n",
       "\n",
       "#sk-container-id-1 div.sk-label input.sk-toggleable__control:checked~label.sk-toggleable__label {\n",
       "  color: var(--sklearn-color-text);\n",
       "  background-color: var(--sklearn-color-unfitted-level-2);\n",
       "}\n",
       "\n",
       "#sk-container-id-1 div.sk-label.fitted input.sk-toggleable__control:checked~label.sk-toggleable__label {\n",
       "  background-color: var(--sklearn-color-fitted-level-2);\n",
       "}\n",
       "\n",
       "/* Estimator-specific style */\n",
       "\n",
       "/* Colorize estimator box */\n",
       "#sk-container-id-1 div.sk-estimator input.sk-toggleable__control:checked~label.sk-toggleable__label {\n",
       "  /* unfitted */\n",
       "  background-color: var(--sklearn-color-unfitted-level-2);\n",
       "}\n",
       "\n",
       "#sk-container-id-1 div.sk-estimator.fitted input.sk-toggleable__control:checked~label.sk-toggleable__label {\n",
       "  /* fitted */\n",
       "  background-color: var(--sklearn-color-fitted-level-2);\n",
       "}\n",
       "\n",
       "#sk-container-id-1 div.sk-label label.sk-toggleable__label,\n",
       "#sk-container-id-1 div.sk-label label {\n",
       "  /* The background is the default theme color */\n",
       "  color: var(--sklearn-color-text-on-default-background);\n",
       "}\n",
       "\n",
       "/* On hover, darken the color of the background */\n",
       "#sk-container-id-1 div.sk-label:hover label.sk-toggleable__label {\n",
       "  color: var(--sklearn-color-text);\n",
       "  background-color: var(--sklearn-color-unfitted-level-2);\n",
       "}\n",
       "\n",
       "/* Label box, darken color on hover, fitted */\n",
       "#sk-container-id-1 div.sk-label.fitted:hover label.sk-toggleable__label.fitted {\n",
       "  color: var(--sklearn-color-text);\n",
       "  background-color: var(--sklearn-color-fitted-level-2);\n",
       "}\n",
       "\n",
       "/* Estimator label */\n",
       "\n",
       "#sk-container-id-1 div.sk-label label {\n",
       "  font-family: monospace;\n",
       "  font-weight: bold;\n",
       "  display: inline-block;\n",
       "  line-height: 1.2em;\n",
       "}\n",
       "\n",
       "#sk-container-id-1 div.sk-label-container {\n",
       "  text-align: center;\n",
       "}\n",
       "\n",
       "/* Estimator-specific */\n",
       "#sk-container-id-1 div.sk-estimator {\n",
       "  font-family: monospace;\n",
       "  border: 1px dotted var(--sklearn-color-border-box);\n",
       "  border-radius: 0.25em;\n",
       "  box-sizing: border-box;\n",
       "  margin-bottom: 0.5em;\n",
       "  /* unfitted */\n",
       "  background-color: var(--sklearn-color-unfitted-level-0);\n",
       "}\n",
       "\n",
       "#sk-container-id-1 div.sk-estimator.fitted {\n",
       "  /* fitted */\n",
       "  background-color: var(--sklearn-color-fitted-level-0);\n",
       "}\n",
       "\n",
       "/* on hover */\n",
       "#sk-container-id-1 div.sk-estimator:hover {\n",
       "  /* unfitted */\n",
       "  background-color: var(--sklearn-color-unfitted-level-2);\n",
       "}\n",
       "\n",
       "#sk-container-id-1 div.sk-estimator.fitted:hover {\n",
       "  /* fitted */\n",
       "  background-color: var(--sklearn-color-fitted-level-2);\n",
       "}\n",
       "\n",
       "/* Specification for estimator info (e.g. \"i\" and \"?\") */\n",
       "\n",
       "/* Common style for \"i\" and \"?\" */\n",
       "\n",
       ".sk-estimator-doc-link,\n",
       "a:link.sk-estimator-doc-link,\n",
       "a:visited.sk-estimator-doc-link {\n",
       "  float: right;\n",
       "  font-size: smaller;\n",
       "  line-height: 1em;\n",
       "  font-family: monospace;\n",
       "  background-color: var(--sklearn-color-background);\n",
       "  border-radius: 1em;\n",
       "  height: 1em;\n",
       "  width: 1em;\n",
       "  text-decoration: none !important;\n",
       "  margin-left: 1ex;\n",
       "  /* unfitted */\n",
       "  border: var(--sklearn-color-unfitted-level-1) 1pt solid;\n",
       "  color: var(--sklearn-color-unfitted-level-1);\n",
       "}\n",
       "\n",
       ".sk-estimator-doc-link.fitted,\n",
       "a:link.sk-estimator-doc-link.fitted,\n",
       "a:visited.sk-estimator-doc-link.fitted {\n",
       "  /* fitted */\n",
       "  border: var(--sklearn-color-fitted-level-1) 1pt solid;\n",
       "  color: var(--sklearn-color-fitted-level-1);\n",
       "}\n",
       "\n",
       "/* On hover */\n",
       "div.sk-estimator:hover .sk-estimator-doc-link:hover,\n",
       ".sk-estimator-doc-link:hover,\n",
       "div.sk-label-container:hover .sk-estimator-doc-link:hover,\n",
       ".sk-estimator-doc-link:hover {\n",
       "  /* unfitted */\n",
       "  background-color: var(--sklearn-color-unfitted-level-3);\n",
       "  color: var(--sklearn-color-background);\n",
       "  text-decoration: none;\n",
       "}\n",
       "\n",
       "div.sk-estimator.fitted:hover .sk-estimator-doc-link.fitted:hover,\n",
       ".sk-estimator-doc-link.fitted:hover,\n",
       "div.sk-label-container:hover .sk-estimator-doc-link.fitted:hover,\n",
       ".sk-estimator-doc-link.fitted:hover {\n",
       "  /* fitted */\n",
       "  background-color: var(--sklearn-color-fitted-level-3);\n",
       "  color: var(--sklearn-color-background);\n",
       "  text-decoration: none;\n",
       "}\n",
       "\n",
       "/* Span, style for the box shown on hovering the info icon */\n",
       ".sk-estimator-doc-link span {\n",
       "  display: none;\n",
       "  z-index: 9999;\n",
       "  position: relative;\n",
       "  font-weight: normal;\n",
       "  right: .2ex;\n",
       "  padding: .5ex;\n",
       "  margin: .5ex;\n",
       "  width: min-content;\n",
       "  min-width: 20ex;\n",
       "  max-width: 50ex;\n",
       "  color: var(--sklearn-color-text);\n",
       "  box-shadow: 2pt 2pt 4pt #999;\n",
       "  /* unfitted */\n",
       "  background: var(--sklearn-color-unfitted-level-0);\n",
       "  border: .5pt solid var(--sklearn-color-unfitted-level-3);\n",
       "}\n",
       "\n",
       ".sk-estimator-doc-link.fitted span {\n",
       "  /* fitted */\n",
       "  background: var(--sklearn-color-fitted-level-0);\n",
       "  border: var(--sklearn-color-fitted-level-3);\n",
       "}\n",
       "\n",
       ".sk-estimator-doc-link:hover span {\n",
       "  display: block;\n",
       "}\n",
       "\n",
       "/* \"?\"-specific style due to the `<a>` HTML tag */\n",
       "\n",
       "#sk-container-id-1 a.estimator_doc_link {\n",
       "  float: right;\n",
       "  font-size: 1rem;\n",
       "  line-height: 1em;\n",
       "  font-family: monospace;\n",
       "  background-color: var(--sklearn-color-background);\n",
       "  border-radius: 1rem;\n",
       "  height: 1rem;\n",
       "  width: 1rem;\n",
       "  text-decoration: none;\n",
       "  /* unfitted */\n",
       "  color: var(--sklearn-color-unfitted-level-1);\n",
       "  border: var(--sklearn-color-unfitted-level-1) 1pt solid;\n",
       "}\n",
       "\n",
       "#sk-container-id-1 a.estimator_doc_link.fitted {\n",
       "  /* fitted */\n",
       "  border: var(--sklearn-color-fitted-level-1) 1pt solid;\n",
       "  color: var(--sklearn-color-fitted-level-1);\n",
       "}\n",
       "\n",
       "/* On hover */\n",
       "#sk-container-id-1 a.estimator_doc_link:hover {\n",
       "  /* unfitted */\n",
       "  background-color: var(--sklearn-color-unfitted-level-3);\n",
       "  color: var(--sklearn-color-background);\n",
       "  text-decoration: none;\n",
       "}\n",
       "\n",
       "#sk-container-id-1 a.estimator_doc_link.fitted:hover {\n",
       "  /* fitted */\n",
       "  background-color: var(--sklearn-color-fitted-level-3);\n",
       "}\n",
       "</style><div id=\"sk-container-id-1\" class=\"sk-top-container\"><div class=\"sk-text-repr-fallback\"><pre>RandomForestRegressor(random_state=42)</pre><b>In a Jupyter environment, please rerun this cell to show the HTML representation or trust the notebook. <br />On GitHub, the HTML representation is unable to render, please try loading this page with nbviewer.org.</b></div><div class=\"sk-container\" hidden><div class=\"sk-item\"><div class=\"sk-estimator fitted sk-toggleable\"><input class=\"sk-toggleable__control sk-hidden--visually\" id=\"sk-estimator-id-1\" type=\"checkbox\" checked><label for=\"sk-estimator-id-1\" class=\"sk-toggleable__label fitted sk-toggleable__label-arrow fitted\">&nbsp;&nbsp;RandomForestRegressor<a class=\"sk-estimator-doc-link fitted\" rel=\"noreferrer\" target=\"_blank\" href=\"https://scikit-learn.org/1.4/modules/generated/sklearn.ensemble.RandomForestRegressor.html\">?<span>Documentation for RandomForestRegressor</span></a><span class=\"sk-estimator-doc-link fitted\">i<span>Fitted</span></span></label><div class=\"sk-toggleable__content fitted\"><pre>RandomForestRegressor(random_state=42)</pre></div> </div></div></div></div>"
      ],
      "text/plain": [
       "RandomForestRegressor(random_state=42)"
      ]
     },
     "execution_count": 6,
     "metadata": {},
     "output_type": "execute_result"
    }
   ],
   "source": [
    "#Training a regression model\n",
    "model = RandomForestRegressor(n_estimators=100, random_state=42)\n",
    "model.fit(X_train, y_train)"
   ]
  },
  {
   "cell_type": "code",
   "execution_count": 7,
   "id": "70d3ad97-a9e4-4251-ae75-6564f839ee94",
   "metadata": {},
   "outputs": [
    {
     "name": "stdout",
     "output_type": "stream",
     "text": [
      "Mean Absolute Error: 22.754854736840304\n",
      "R² Score: 0.1370004597820208\n"
     ]
    }
   ],
   "source": [
    "#Evaluating the model\n",
    "y_pred = model.predict(X_test)\n",
    "\n",
    "print(\"Mean Absolute Error:\", mean_absolute_error(y_test, y_pred))\n",
    "print(\"R² Score:\", r2_score(y_test, y_pred))"
   ]
  },
  {
   "cell_type": "markdown",
   "id": "5d6048fb-3370-4095-8175-709651f6eb02",
   "metadata": {},
   "source": [
    "2.\tCan you create features like “strike rate” or “bowler economy rate” from this data? How?"
   ]
  },
  {
   "cell_type": "code",
   "execution_count": 8,
   "id": "64045488-57b8-4fee-871c-5b153ec75b97",
   "metadata": {},
   "outputs": [
    {
     "name": "stdout",
     "output_type": "stream",
     "text": [
      "🏏 Top 10 Batters by Strike Rate:\n",
      "              batter  strike_rate\n",
      "312           L Wood   300.000000\n",
      "461    R Sai Kishore   260.000000\n",
      "293  KMDN Kulasekara   250.000000\n",
      "97        B Stanlake   250.000000\n",
      "234  J Fraser-McGurk   238.235294\n",
      "629         Umar Gul   229.411765\n",
      "478       RJ Gleeson   200.000000\n",
      "640        VRV Singh   200.000000\n",
      "497         RS Sodhi   200.000000\n",
      "465       R Shepherd   191.666667\n"
     ]
    }
   ],
   "source": [
    "# 🏏 STRIKE RATE (per batter)\n",
    "\n",
    "# Filter valid balls (exclude wides and no-balls)\n",
    "valid_balls = df[df['extras_type'].isnull()]\n",
    "\n",
    "# Group by batter to calculate total runs and balls faced\n",
    "strike_rate_df = valid_balls.groupby('batter').agg(\n",
    "    total_runs=('batsman_runs', 'sum'),\n",
    "    balls_faced=('ball', 'count')\n",
    ").reset_index()\n",
    "\n",
    "# Calculating strike rate = (runs / balls) * 100\n",
    "strike_rate_df['strike_rate'] = (strike_rate_df['total_runs'] / strike_rate_df['balls_faced']) * 100\n",
    "\n",
    "# Sort by highest strike rate\n",
    "strike_rate_df.sort_values(by='strike_rate', ascending=False, inplace=True)\n",
    "\n",
    "# Shows top 10\n",
    "print(\"🏏 Top 10 Batters by Strike Rate:\")\n",
    "print(strike_rate_df[['batter', 'strike_rate']].head(10))"
   ]
  },
  {
   "cell_type": "markdown",
   "id": "be6a4d71-c1bd-4682-96e9-c3c0119424f1",
   "metadata": {},
   "source": [
    "3.\tBuild a dataset where each row represents an over. What features would you include?"
   ]
  },
  {
   "cell_type": "code",
   "execution_count": 9,
   "id": "bb4821f0-5d40-49ca-aaa4-0b1b05c20603",
   "metadata": {},
   "outputs": [],
   "source": [
    "# Group data to get per-over features\n",
    "over_df = df.groupby(['match_id', 'inning', 'over']).agg(\n",
    "    batting_team=('batting_team', 'first'),\n",
    "    bowling_team=('bowling_team', 'first'),\n",
    "    runs_in_over=('total_runs', 'sum'),\n",
    "    wickets_in_over=('is_wicket', 'sum'),\n",
    "    extras_in_over=('extra_runs', 'sum'),\n",
    "    boundaries=('batsman_runs', lambda x: ((x == 4) | (x == 6)).sum()),\n",
    "    dot_balls=('batsman_runs', lambda x: (x == 0).sum()),\n",
    "    batsmen_involved=('batter', lambda x: x.nunique()),\n",
    "    bowler_involved=('bowler', lambda x: x.nunique())\n",
    ").reset_index()"
   ]
  },
  {
   "cell_type": "code",
   "execution_count": 10,
   "id": "f670a079-26e6-4486-b992-f3020e8ba62a",
   "metadata": {},
   "outputs": [],
   "source": [
    "# Adding cumulative stats per match and inning\n",
    "over_df['cumulative_runs'] = over_df.groupby(['match_id', 'inning'])['runs_in_over'].cumsum()"
   ]
  },
  {
   "cell_type": "code",
   "execution_count": 11,
   "id": "3efee571-5fd2-4eef-ad16-bb3cad4a9ee0",
   "metadata": {},
   "outputs": [],
   "source": [
    "# Momentum: Runs in the last 2 overs\n",
    "over_df['momentum_last_2_overs'] = (\n",
    "    over_df.groupby(['match_id', 'inning'])['runs_in_over']\n",
    "    .rolling(window=2, min_periods=1).sum().reset_index(drop=True)\n",
    ")"
   ]
  },
  {
   "cell_type": "code",
   "execution_count": 12,
   "id": "47a8e16c-2977-4c50-a0eb-cf3b4a0ea4c6",
   "metadata": {},
   "outputs": [
    {
     "data": {
      "text/html": [
       "<div>\n",
       "<style scoped>\n",
       "    .dataframe tbody tr th:only-of-type {\n",
       "        vertical-align: middle;\n",
       "    }\n",
       "\n",
       "    .dataframe tbody tr th {\n",
       "        vertical-align: top;\n",
       "    }\n",
       "\n",
       "    .dataframe thead th {\n",
       "        text-align: right;\n",
       "    }\n",
       "</style>\n",
       "<table border=\"1\" class=\"dataframe\">\n",
       "  <thead>\n",
       "    <tr style=\"text-align: right;\">\n",
       "      <th></th>\n",
       "      <th>match_id</th>\n",
       "      <th>inning</th>\n",
       "      <th>over</th>\n",
       "      <th>batting_team</th>\n",
       "      <th>bowling_team</th>\n",
       "      <th>runs_in_over</th>\n",
       "      <th>wickets_in_over</th>\n",
       "      <th>extras_in_over</th>\n",
       "      <th>boundaries</th>\n",
       "      <th>dot_balls</th>\n",
       "      <th>batsmen_involved</th>\n",
       "      <th>bowler_involved</th>\n",
       "      <th>cumulative_runs</th>\n",
       "      <th>momentum_last_2_overs</th>\n",
       "    </tr>\n",
       "  </thead>\n",
       "  <tbody>\n",
       "    <tr>\n",
       "      <th>0</th>\n",
       "      <td>335982</td>\n",
       "      <td>1</td>\n",
       "      <td>0</td>\n",
       "      <td>Kolkata Knight Riders</td>\n",
       "      <td>Royal Challengers Bangalore</td>\n",
       "      <td>3</td>\n",
       "      <td>0</td>\n",
       "      <td>3</td>\n",
       "      <td>0</td>\n",
       "      <td>7</td>\n",
       "      <td>2</td>\n",
       "      <td>1</td>\n",
       "      <td>3</td>\n",
       "      <td>3.0</td>\n",
       "    </tr>\n",
       "    <tr>\n",
       "      <th>1</th>\n",
       "      <td>335982</td>\n",
       "      <td>1</td>\n",
       "      <td>1</td>\n",
       "      <td>Kolkata Knight Riders</td>\n",
       "      <td>Royal Challengers Bangalore</td>\n",
       "      <td>18</td>\n",
       "      <td>0</td>\n",
       "      <td>0</td>\n",
       "      <td>4</td>\n",
       "      <td>2</td>\n",
       "      <td>1</td>\n",
       "      <td>1</td>\n",
       "      <td>21</td>\n",
       "      <td>21.0</td>\n",
       "    </tr>\n",
       "    <tr>\n",
       "      <th>2</th>\n",
       "      <td>335982</td>\n",
       "      <td>1</td>\n",
       "      <td>2</td>\n",
       "      <td>Kolkata Knight Riders</td>\n",
       "      <td>Royal Challengers Bangalore</td>\n",
       "      <td>6</td>\n",
       "      <td>0</td>\n",
       "      <td>1</td>\n",
       "      <td>1</td>\n",
       "      <td>4</td>\n",
       "      <td>2</td>\n",
       "      <td>1</td>\n",
       "      <td>27</td>\n",
       "      <td>24.0</td>\n",
       "    </tr>\n",
       "    <tr>\n",
       "      <th>3</th>\n",
       "      <td>335982</td>\n",
       "      <td>1</td>\n",
       "      <td>3</td>\n",
       "      <td>Kolkata Knight Riders</td>\n",
       "      <td>Royal Challengers Bangalore</td>\n",
       "      <td>23</td>\n",
       "      <td>0</td>\n",
       "      <td>6</td>\n",
       "      <td>3</td>\n",
       "      <td>3</td>\n",
       "      <td>2</td>\n",
       "      <td>1</td>\n",
       "      <td>50</td>\n",
       "      <td>29.0</td>\n",
       "    </tr>\n",
       "    <tr>\n",
       "      <th>4</th>\n",
       "      <td>335982</td>\n",
       "      <td>1</td>\n",
       "      <td>4</td>\n",
       "      <td>Kolkata Knight Riders</td>\n",
       "      <td>Royal Challengers Bangalore</td>\n",
       "      <td>10</td>\n",
       "      <td>0</td>\n",
       "      <td>0</td>\n",
       "      <td>2</td>\n",
       "      <td>2</td>\n",
       "      <td>2</td>\n",
       "      <td>1</td>\n",
       "      <td>60</td>\n",
       "      <td>33.0</td>\n",
       "    </tr>\n",
       "  </tbody>\n",
       "</table>\n",
       "</div>"
      ],
      "text/plain": [
       "   match_id  inning  over           batting_team                 bowling_team  \\\n",
       "0    335982       1     0  Kolkata Knight Riders  Royal Challengers Bangalore   \n",
       "1    335982       1     1  Kolkata Knight Riders  Royal Challengers Bangalore   \n",
       "2    335982       1     2  Kolkata Knight Riders  Royal Challengers Bangalore   \n",
       "3    335982       1     3  Kolkata Knight Riders  Royal Challengers Bangalore   \n",
       "4    335982       1     4  Kolkata Knight Riders  Royal Challengers Bangalore   \n",
       "\n",
       "   runs_in_over  wickets_in_over  extras_in_over  boundaries  dot_balls  \\\n",
       "0             3                0               3           0          7   \n",
       "1            18                0               0           4          2   \n",
       "2             6                0               1           1          4   \n",
       "3            23                0               6           3          3   \n",
       "4            10                0               0           2          2   \n",
       "\n",
       "   batsmen_involved  bowler_involved  cumulative_runs  momentum_last_2_overs  \n",
       "0                 2                1                3                    3.0  \n",
       "1                 1                1               21                   21.0  \n",
       "2                 2                1               27                   24.0  \n",
       "3                 2                1               50                   29.0  \n",
       "4                 2                1               60                   33.0  "
      ]
     },
     "execution_count": 12,
     "metadata": {},
     "output_type": "execute_result"
    }
   ],
   "source": [
    "over_df.head()"
   ]
  },
  {
   "cell_type": "markdown",
   "id": "2657ef23-545b-4611-a9dc-eadd4d1a07ae",
   "metadata": {},
   "source": [
    "4.\tHow would you detect and handle outliers in batsman_runs or total_runs?"
   ]
  },
  {
   "cell_type": "code",
   "execution_count": 13,
   "id": "7e70a66a-75a7-4c4a-93c5-a01e016dfb34",
   "metadata": {},
   "outputs": [
    {
     "data": {
      "image/png": "[encoded data removed]",
      "text/plain": [
       "<Figure size 640x480 with 1 Axes>"
      ]
     },
     "metadata": {},
     "output_type": "display_data"
    },
    {
     "data": {
      "image/png": "[encoded data removed]",
      "text/plain": [
       "<Figure size 640x480 with 1 Axes>"
      ]
     },
     "metadata": {},
     "output_type": "display_data"
    }
   ],
   "source": [
    "#Detecting Outliers\n",
    "#📌 A. Using Boxplot / IQR Method\n",
    "import seaborn as sns\n",
    "import matplotlib.pyplot as plt\n",
    "\n",
    "# Boxplot to visually check outliers\n",
    "sns.boxplot(x=df['batsman_runs'])\n",
    "plt.title('Boxplot of Batsman Runs')\n",
    "plt.show()\n",
    "\n",
    "sns.boxplot(x=df['total_runs'])\n",
    "plt.title('Boxplot of Total Runs')\n",
    "plt.show()"
   ]
  },
  {
   "cell_type": "code",
   "execution_count": 14,
   "id": "38443d65-eec2-4192-9104-970745c1d4c9",
   "metadata": {},
   "outputs": [
    {
     "name": "stdout",
     "output_type": "stream",
     "text": [
      "Shape before: (260920, 17)\n",
      "Shape after: (217171, 17)\n"
     ]
    }
   ],
   "source": [
    "# Removing Outliers----using batsman_runs\n",
    "Q1 = df['batsman_runs'].quantile(0.25)\n",
    "Q3 = df['batsman_runs'].quantile(0.75)\n",
    "IQR = Q3 - Q1\n",
    "lower = Q1 - 1.5 * IQR\n",
    "upper = Q3 + 1.5 * IQR\n",
    "\n",
    "# Keeping only non-outliers\n",
    "df_cleaned = df[(df['batsman_runs'] >= lower) & (df['batsman_runs'] <= upper)]\n",
    "\n",
    "print(\"Shape before:\", df.shape)\n",
    "print(\"Shape after:\", df_cleaned.shape)"
   ]
  },
  {
   "cell_type": "markdown",
   "id": "27331cd6-dff7-464e-aae3-41917616caf1",
   "metadata": {},
   "source": [
    "5.\tEngineer a feature that captures momentum (e.g., runs scored in the last 2 overs). How would you implement it in Pandas?"
   ]
  },
  {
   "cell_type": "code",
   "execution_count": 15,
   "id": "c189dd46-0e6a-4773-b7d6-af1fcecbab0a",
   "metadata": {},
   "outputs": [
    {
     "name": "stdout",
     "output_type": "stream",
     "text": [
      "   match_id  inning  over  total_runs  runs_last_2_overs\n",
      "0    335982       1     0           3                NaN\n",
      "1    335982       1     1          18                3.0\n",
      "2    335982       1     2           6               21.0\n",
      "3    335982       1     3          23               24.0\n",
      "4    335982       1     4          10               29.0\n",
      "5    335982       1     5           1               33.0\n",
      "6    335982       1     6           7               11.0\n",
      "7    335982       1     7           5                8.0\n",
      "8    335982       1     8           4               12.0\n",
      "9    335982       1     9          10                9.0\n"
     ]
    }
   ],
   "source": [
    "# Aggregating total runs per over\n",
    "over_runs = df.groupby(['match_id', 'inning', 'over'])['total_runs'].sum().reset_index()\n",
    "\n",
    "#Sorting to ensure proper order for rolling calculation\n",
    "over_runs = over_runs.sort_values(by=['match_id', 'inning', 'over'])\n",
    "\n",
    "#Calculating runs in last 2 overs using groupby + transform (this keeps the index aligned!)\n",
    "over_runs['runs_last_2_overs'] = (\n",
    "    over_runs\n",
    "    .groupby(['match_id', 'inning'])['total_runs']\n",
    "    .transform(lambda x: x.shift(1).rolling(window=2, min_periods=1).sum())\n",
    ")\n",
    "\n",
    "print(over_runs.head(10))"
   ]
  },
  {
   "cell_type": "markdown",
   "id": "fed66dbb-d454-4ea0-aa45-cb9c5a75404f",
   "metadata": {},
   "source": [
    "Supervised Learning"
   ]
  },
  {
   "cell_type": "markdown",
   "id": "dce012dc-d0ac-4f29-b207-e98b48df5183",
   "metadata": {},
   "source": [
    "6.\tBuild a regression model to predict the final inning total using data available till a certain over. \n",
    "Which regression algorithms would you try (Linear Regression, XGBoost, etc.)?"
   ]
  },
  {
   "cell_type": "code",
   "execution_count": 16,
   "id": "aea8bed4-bc5f-4c3a-87df-d8cc275b9dba",
   "metadata": {},
   "outputs": [],
   "source": [
    "# Choosing a Cutoff Over\n",
    "cutoff_over = 10"
   ]
  },
  {
   "cell_type": "code",
   "execution_count": 17,
   "id": "d2ebd198-efa3-4d0e-8892-d6916c8e92a0",
   "metadata": {},
   "outputs": [],
   "source": [
    "#Computing Total Runs Scored After Cutoff Over (This is the TARGET)\n",
    "final_totals = df.groupby(['match_id', 'inning'])['total_runs'].sum().reset_index()\n",
    "final_totals.rename(columns={'total_runs': 'final_total'}, inplace=True)"
   ]
  },
  {
   "cell_type": "code",
   "execution_count": 18,
   "id": "5221cd2a-bc04-4662-83d2-3880c1bae7e0",
   "metadata": {},
   "outputs": [],
   "source": [
    "#Aggregating Data Till the Cutoff Over (This is the FEATURE)\n",
    "df_cutoff = df[df['over'] <= cutoff_over]\n",
    "\n",
    "till_now = df_cutoff.groupby(['match_id', 'inning'])['total_runs'].sum().reset_index()\n",
    "till_now.rename(columns={'total_runs': 'runs_till_cutoff'}, inplace=True)"
   ]
  },
  {
   "cell_type": "code",
   "execution_count": 19,
   "id": "beb8301b-f0dd-4416-847f-48a62735ccf7",
   "metadata": {},
   "outputs": [],
   "source": [
    "#Merge Feature and Target\n",
    "model_df = pd.merge(till_now, final_totals, on=['match_id', 'inning'])"
   ]
  },
  {
   "cell_type": "code",
   "execution_count": 20,
   "id": "c2153787-ad45-420c-8b84-7e41eab7442f",
   "metadata": {},
   "outputs": [],
   "source": [
    "# Spliting into Features and Target\n",
    "X = model_df[['runs_till_cutoff']]   # features\n",
    "y = model_df['final_total']          # target"
   ]
  },
  {
   "cell_type": "code",
   "execution_count": 21,
   "id": "51e4c74b-2600-47a4-8eb5-04672e302e05",
   "metadata": {},
   "outputs": [],
   "source": [
    "#Train-Test Split\n",
    "from sklearn.model_selection import train_test_split\n",
    "\n",
    "X_train, X_test, y_train, y_test = train_test_split(X, y, test_size=0.2, random_state=42)"
   ]
  },
  {
   "cell_type": "code",
   "execution_count": 22,
   "id": "d39aca94-b747-4f4f-b7ef-e53f3453c41a",
   "metadata": {},
   "outputs": [],
   "source": [
    " #Trying Regression Models\n",
    " from sklearn.ensemble import RandomForestRegressor\n",
    "\n",
    "rf = RandomForestRegressor()\n",
    "rf.fit(X_train, y_train)\n",
    "y_pred_rf = rf.predict(X_test)"
   ]
  },
  {
   "cell_type": "code",
   "execution_count": 23,
   "id": "a1ccc549-e94d-4fe1-aa80-583e7f3c25d8",
   "metadata": {},
   "outputs": [
    {
     "name": "stdout",
     "output_type": "stream",
     "text": [
      "\n",
      "Random Forest Performance:\n",
      "MAE: 18.90745398382032\n",
      "RMSE: 25.134048762967055\n",
      "R2 Score: 0.5549065625896638\n"
     ]
    }
   ],
   "source": [
    "#Evaluating the Models\n",
    "from sklearn.metrics import mean_absolute_error, mean_squared_error, r2_score\n",
    "import numpy as np\n",
    "\n",
    "def evaluate_model(y_test, y_pred, name):\n",
    "    print(f\"\\n{name} Performance:\")\n",
    "    print(\"MAE:\", mean_absolute_error(y_test, y_pred))\n",
    "    print(\"RMSE:\", np.sqrt(mean_squared_error(y_test, y_pred)))\n",
    "    print(\"R2 Score:\", r2_score(y_test, y_pred))\n",
    "    \n",
    "evaluate_model(y_test, y_pred_rf, \"Random Forest\")"
   ]
  },
  {
   "cell_type": "markdown",
   "id": "efee207b-7257-4857-840b-e159567074b2",
   "metadata": {},
   "source": [
    "7.\tCan you train a classification model to predict whether a team will score more than 180 runs in an inning?\n",
    "What would your target and features be?"
   ]
  },
  {
   "cell_type": "code",
   "execution_count": 24,
   "id": "22b78b09-e315-4d3a-a266-16844aed0a95",
   "metadata": {},
   "outputs": [],
   "source": [
    "# Creating Target (Will Score > 180 Runs?)\n",
    "# Step 2: Get final total of each inning\n",
    "inning_totals = df.groupby(['match_id', 'inning'])['total_runs'].sum().reset_index()\n",
    "\n",
    "# Creating binary target (1 = yes, 0 = no)\n",
    "inning_totals['target'] = (inning_totals['total_runs'] > 180).astype(int)"
   ]
  },
  {
   "cell_type": "code",
   "execution_count": 25,
   "id": "9e76c7e4-3e7e-4d69-9a3f-ae068916a5a0",
   "metadata": {},
   "outputs": [],
   "source": [
    "#  Filtering data till over 10\n",
    "df_cutoff = df[df['over'] <= 10]\n",
    "\n",
    "# Creating features per inning\n",
    "features = df_cutoff.groupby(['match_id', 'inning']).agg({\n",
    "    'total_runs': 'sum',\n",
    "    'ball': 'count',\n",
    "    'batsman_runs': 'mean',\n",
    "    'bowler': 'nunique',\n",
    "    'over': 'max'\n",
    "}).reset_index()\n",
    "\n",
    "# Renaming for clarity\n",
    "features.rename(columns={\n",
    "    'total_runs': 'runs_till_over_10',\n",
    "    'ball': 'balls_played',\n",
    "    'batsman_runs': 'avg_batsman_runs',\n",
    "    'bowler': 'unique_bowlers'\n",
    "}, inplace=True)\n"
   ]
  },
  {
   "cell_type": "code",
   "execution_count": 26,
   "id": "e69a23ee-0b9b-42bc-b384-66dae608dc06",
   "metadata": {},
   "outputs": [],
   "source": [
    "#Merging Target with Features\n",
    "#Combining features with target\n",
    "df_model = features.merge(inning_totals[['match_id', 'inning', 'target']], on=['match_id', 'inning'])"
   ]
  },
  {
   "cell_type": "code",
   "execution_count": 27,
   "id": "4eed12b5-3573-4387-ad98-c031b17d5c16",
   "metadata": {},
   "outputs": [
    {
     "name": "stdout",
     "output_type": "stream",
     "text": [
      "Accuracy: 0.777027027027027\n",
      "              precision    recall  f1-score   support\n",
      "\n",
      "           0       0.87      0.85      0.86       357\n",
      "           1       0.44      0.49      0.46        87\n",
      "\n",
      "    accuracy                           0.78       444\n",
      "   macro avg       0.66      0.67      0.66       444\n",
      "weighted avg       0.79      0.78      0.78       444\n",
      "\n"
     ]
    }
   ],
   "source": [
    "#Training a Classification Model\n",
    "from sklearn.ensemble import RandomForestClassifier\n",
    "from sklearn.model_selection import train_test_split\n",
    "from sklearn.metrics import classification_report, accuracy_score\n",
    "\n",
    "#Defining X (features) and y (target)\n",
    "X = df_model.drop(['match_id', 'inning', 'target'], axis=1)\n",
    "y = df_model['target']\n",
    "\n",
    "#Train-test split\n",
    "X_train, X_test, y_train, y_test = train_test_split(X, y, test_size=0.2, random_state=42)\n",
    "\n",
    "#Train model\n",
    "model = RandomForestClassifier()\n",
    "model.fit(X_train, y_train)\n",
    "\n",
    "#Prediction and evaluating\n",
    "y_pred = model.predict(X_test)\n",
    "\n",
    "print(\"Accuracy:\", accuracy_score(y_test, y_pred))\n",
    "print(classification_report(y_test, y_pred))"
   ]
  },
  {
   "cell_type": "markdown",
   "id": "a3da20de-da1d-45d5-9758-042c4a0831db",
   "metadata": {},
   "source": [
    "8.\tTrain a model to predict whether a wicket will fall on a given ball. Which features are most predictive?"
   ]
  },
  {
   "cell_type": "code",
   "execution_count": 28,
   "id": "f2993a08-9d03-4a46-99ce-579b6a6217f6",
   "metadata": {},
   "outputs": [],
   "source": [
    "#Selecting features and target\n",
    "df_model = df[['over', 'ball', 'total_runs', 'batter', 'bowler', 'batting_team', 'bowling_team', 'is_wicket']].copy()"
   ]
  },
  {
   "cell_type": "code",
   "execution_count": 29,
   "id": "2cff7bb1-56a5-4b67-a8e9-3d71bb88ca5d",
   "metadata": {},
   "outputs": [],
   "source": [
    "# One-Hot Encode Categorical Columns\n",
    "df_model_encoded = pd.get_dummies(\n",
    "    df_model, \n",
    "    columns=['batter', 'bowler', 'batting_team', 'bowling_team'], \n",
    "    drop_first=True\n",
    ")"
   ]
  },
  {
   "cell_type": "code",
   "execution_count": 30,
   "id": "82b12ad6-40f4-49dc-b970-fe35c2b64c5c",
   "metadata": {},
   "outputs": [],
   "source": [
    "#Spliting into Features and Target\n",
    "X = df_model_encoded.drop('is_wicket', axis=1)\n",
    "y = df_model_encoded['is_wicket']"
   ]
  },
  {
   "cell_type": "code",
   "execution_count": 31,
   "id": "ffd87995-5588-4351-ba62-ec5e12e81f27",
   "metadata": {},
   "outputs": [
    {
     "data": {
      "text/html": [
       "<style>#sk-container-id-2 {\n",
       "  /* Definition of color scheme common for light and dark mode */\n",
       "  --sklearn-color-text: black;\n",
       "  --sklearn-color-line: gray;\n",
       "  /* Definition of color scheme for unfitted estimators */\n",
       "  --sklearn-color-unfitted-level-0: #fff5e6;\n",
       "  --sklearn-color-unfitted-level-1: #f6e4d2;\n",
       "  --sklearn-color-unfitted-level-2: #ffe0b3;\n",
       "  --sklearn-color-unfitted-level-3: chocolate;\n",
       "  /* Definition of color scheme for fitted estimators */\n",
       "  --sklearn-color-fitted-level-0: #f0f8ff;\n",
       "  --sklearn-color-fitted-level-1: #d4ebff;\n",
       "  --sklearn-color-fitted-level-2: #b3dbfd;\n",
       "  --sklearn-color-fitted-level-3: cornflowerblue;\n",
       "\n",
       "  /* Specific color for light theme */\n",
       "  --sklearn-color-text-on-default-background: var(--sg-text-color, var(--theme-code-foreground, var(--jp-content-font-color1, black)));\n",
       "  --sklearn-color-background: var(--sg-background-color, var(--theme-background, var(--jp-layout-color0, white)));\n",
       "  --sklearn-color-border-box: var(--sg-text-color, var(--theme-code-foreground, var(--jp-content-font-color1, black)));\n",
       "  --sklearn-color-icon: #696969;\n",
       "\n",
       "  @media (prefers-color-scheme: dark) {\n",
       "    /* Redefinition of color scheme for dark theme */\n",
       "    --sklearn-color-text-on-default-background: var(--sg-text-color, var(--theme-code-foreground, var(--jp-content-font-color1, white)));\n",
       "    --sklearn-color-background: var(--sg-background-color, var(--theme-background, var(--jp-layout-color0, #111)));\n",
       "    --sklearn-color-border-box: var(--sg-text-color, var(--theme-code-foreground, var(--jp-content-font-color1, white)));\n",
       "    --sklearn-color-icon: #878787;\n",
       "  }\n",
       "}\n",
       "\n",
       "#sk-container-id-2 {\n",
       "  color: var(--sklearn-color-text);\n",
       "}\n",
       "\n",
       "#sk-container-id-2 pre {\n",
       "  padding: 0;\n",
       "}\n",
       "\n",
       "#sk-container-id-2 input.sk-hidden--visually {\n",
       "  border: 0;\n",
       "  clip: rect(1px 1px 1px 1px);\n",
       "  clip: rect(1px, 1px, 1px, 1px);\n",
       "  height: 1px;\n",
       "  margin: -1px;\n",
       "  overflow: hidden;\n",
       "  padding: 0;\n",
       "  position: absolute;\n",
       "  width: 1px;\n",
       "}\n",
       "\n",
       "#sk-container-id-2 div.sk-dashed-wrapped {\n",
       "  border: 1px dashed var(--sklearn-color-line);\n",
       "  margin: 0 0.4em 0.5em 0.4em;\n",
       "  box-sizing: border-box;\n",
       "  padding-bottom: 0.4em;\n",
       "  background-color: var(--sklearn-color-background);\n",
       "}\n",
       "\n",
       "#sk-container-id-2 div.sk-container {\n",
       "  /* jupyter's `normalize.less` sets `[hidden] { display: none; }`\n",
       "     but bootstrap.min.css set `[hidden] { display: none !important; }`\n",
       "     so we also need the `!important` here to be able to override the\n",
       "     default hidden behavior on the sphinx rendered scikit-learn.org.\n",
       "     See: https://github.com/scikit-learn/scikit-learn/issues/21755 */\n",
       "  display: inline-block !important;\n",
       "  position: relative;\n",
       "}\n",
       "\n",
       "#sk-container-id-2 div.sk-text-repr-fallback {\n",
       "  display: none;\n",
       "}\n",
       "\n",
       "div.sk-parallel-item,\n",
       "div.sk-serial,\n",
       "div.sk-item {\n",
       "  /* draw centered vertical line to link estimators */\n",
       "  background-image: linear-gradient(var(--sklearn-color-text-on-default-background), var(--sklearn-color-text-on-default-background));\n",
       "  background-size: 2px 100%;\n",
       "  background-repeat: no-repeat;\n",
       "  background-position: center center;\n",
       "}\n",
       "\n",
       "/* Parallel-specific style estimator block */\n",
       "\n",
       "#sk-container-id-2 div.sk-parallel-item::after {\n",
       "  content: \"\";\n",
       "  width: 100%;\n",
       "  border-bottom: 2px solid var(--sklearn-color-text-on-default-background);\n",
       "  flex-grow: 1;\n",
       "}\n",
       "\n",
       "#sk-container-id-2 div.sk-parallel {\n",
       "  display: flex;\n",
       "  align-items: stretch;\n",
       "  justify-content: center;\n",
       "  background-color: var(--sklearn-color-background);\n",
       "  position: relative;\n",
       "}\n",
       "\n",
       "#sk-container-id-2 div.sk-parallel-item {\n",
       "  display: flex;\n",
       "  flex-direction: column;\n",
       "}\n",
       "\n",
       "#sk-container-id-2 div.sk-parallel-item:first-child::after {\n",
       "  align-self: flex-end;\n",
       "  width: 50%;\n",
       "}\n",
       "\n",
       "#sk-container-id-2 div.sk-parallel-item:last-child::after {\n",
       "  align-self: flex-start;\n",
       "  width: 50%;\n",
       "}\n",
       "\n",
       "#sk-container-id-2 div.sk-parallel-item:only-child::after {\n",
       "  width: 0;\n",
       "}\n",
       "\n",
       "/* Serial-specific style estimator block */\n",
       "\n",
       "#sk-container-id-2 div.sk-serial {\n",
       "  display: flex;\n",
       "  flex-direction: column;\n",
       "  align-items: center;\n",
       "  background-color: var(--sklearn-color-background);\n",
       "  padding-right: 1em;\n",
       "  padding-left: 1em;\n",
       "}\n",
       "\n",
       "\n",
       "/* Toggleable style: style used for estimator/Pipeline/ColumnTransformer box that is\n",
       "clickable and can be expanded/collapsed.\n",
       "- Pipeline and ColumnTransformer use this feature and define the default style\n",
       "- Estimators will overwrite some part of the style using the `sk-estimator` class\n",
       "*/\n",
       "\n",
       "/* Pipeline and ColumnTransformer style (default) */\n",
       "\n",
       "#sk-container-id-2 div.sk-toggleable {\n",
       "  /* Default theme specific background. It is overwritten whether we have a\n",
       "  specific estimator or a Pipeline/ColumnTransformer */\n",
       "  background-color: var(--sklearn-color-background);\n",
       "}\n",
       "\n",
       "/* Toggleable label */\n",
       "#sk-container-id-2 label.sk-toggleable__label {\n",
       "  cursor: pointer;\n",
       "  display: block;\n",
       "  width: 100%;\n",
       "  margin-bottom: 0;\n",
       "  padding: 0.5em;\n",
       "  box-sizing: border-box;\n",
       "  text-align: center;\n",
       "}\n",
       "\n",
       "#sk-container-id-2 label.sk-toggleable__label-arrow:before {\n",
       "  /* Arrow on the left of the label */\n",
       "  content: \"▸\";\n",
       "  float: left;\n",
       "  margin-right: 0.25em;\n",
       "  color: var(--sklearn-color-icon);\n",
       "}\n",
       "\n",
       "#sk-container-id-2 label.sk-toggleable__label-arrow:hover:before {\n",
       "  color: var(--sklearn-color-text);\n",
       "}\n",
       "\n",
       "/* Toggleable content - dropdown */\n",
       "\n",
       "#sk-container-id-2 div.sk-toggleable__content {\n",
       "  max-height: 0;\n",
       "  max-width: 0;\n",
       "  overflow: hidden;\n",
       "  text-align: left;\n",
       "  /* unfitted */\n",
       "  background-color: var(--sklearn-color-unfitted-level-0);\n",
       "}\n",
       "\n",
       "#sk-container-id-2 div.sk-toggleable__content.fitted {\n",
       "  /* fitted */\n",
       "  background-color: var(--sklearn-color-fitted-level-0);\n",
       "}\n",
       "\n",
       "#sk-container-id-2 div.sk-toggleable__content pre {\n",
       "  margin: 0.2em;\n",
       "  border-radius: 0.25em;\n",
       "  color: var(--sklearn-color-text);\n",
       "  /* unfitted */\n",
       "  background-color: var(--sklearn-color-unfitted-level-0);\n",
       "}\n",
       "\n",
       "#sk-container-id-2 div.sk-toggleable__content.fitted pre {\n",
       "  /* unfitted */\n",
       "  background-color: var(--sklearn-color-fitted-level-0);\n",
       "}\n",
       "\n",
       "#sk-container-id-2 input.sk-toggleable__control:checked~div.sk-toggleable__content {\n",
       "  /* Expand drop-down */\n",
       "  max-height: 200px;\n",
       "  max-width: 100%;\n",
       "  overflow: auto;\n",
       "}\n",
       "\n",
       "#sk-container-id-2 input.sk-toggleable__control:checked~label.sk-toggleable__label-arrow:before {\n",
       "  content: \"▾\";\n",
       "}\n",
       "\n",
       "/* Pipeline/ColumnTransformer-specific style */\n",
       "\n",
       "#sk-container-id-2 div.sk-label input.sk-toggleable__control:checked~label.sk-toggleable__label {\n",
       "  color: var(--sklearn-color-text);\n",
       "  background-color: var(--sklearn-color-unfitted-level-2);\n",
       "}\n",
       "\n",
       "#sk-container-id-2 div.sk-label.fitted input.sk-toggleable__control:checked~label.sk-toggleable__label {\n",
       "  background-color: var(--sklearn-color-fitted-level-2);\n",
       "}\n",
       "\n",
       "/* Estimator-specific style */\n",
       "\n",
       "/* Colorize estimator box */\n",
       "#sk-container-id-2 div.sk-estimator input.sk-toggleable__control:checked~label.sk-toggleable__label {\n",
       "  /* unfitted */\n",
       "  background-color: var(--sklearn-color-unfitted-level-2);\n",
       "}\n",
       "\n",
       "#sk-container-id-2 div.sk-estimator.fitted input.sk-toggleable__control:checked~label.sk-toggleable__label {\n",
       "  /* fitted */\n",
       "  background-color: var(--sklearn-color-fitted-level-2);\n",
       "}\n",
       "\n",
       "#sk-container-id-2 div.sk-label label.sk-toggleable__label,\n",
       "#sk-container-id-2 div.sk-label label {\n",
       "  /* The background is the default theme color */\n",
       "  color: var(--sklearn-color-text-on-default-background);\n",
       "}\n",
       "\n",
       "/* On hover, darken the color of the background */\n",
       "#sk-container-id-2 div.sk-label:hover label.sk-toggleable__label {\n",
       "  color: var(--sklearn-color-text);\n",
       "  background-color: var(--sklearn-color-unfitted-level-2);\n",
       "}\n",
       "\n",
       "/* Label box, darken color on hover, fitted */\n",
       "#sk-container-id-2 div.sk-label.fitted:hover label.sk-toggleable__label.fitted {\n",
       "  color: var(--sklearn-color-text);\n",
       "  background-color: var(--sklearn-color-fitted-level-2);\n",
       "}\n",
       "\n",
       "/* Estimator label */\n",
       "\n",
       "#sk-container-id-2 div.sk-label label {\n",
       "  font-family: monospace;\n",
       "  font-weight: bold;\n",
       "  display: inline-block;\n",
       "  line-height: 1.2em;\n",
       "}\n",
       "\n",
       "#sk-container-id-2 div.sk-label-container {\n",
       "  text-align: center;\n",
       "}\n",
       "\n",
       "/* Estimator-specific */\n",
       "#sk-container-id-2 div.sk-estimator {\n",
       "  font-family: monospace;\n",
       "  border: 1px dotted var(--sklearn-color-border-box);\n",
       "  border-radius: 0.25em;\n",
       "  box-sizing: border-box;\n",
       "  margin-bottom: 0.5em;\n",
       "  /* unfitted */\n",
       "  background-color: var(--sklearn-color-unfitted-level-0);\n",
       "}\n",
       "\n",
       "#sk-container-id-2 div.sk-estimator.fitted {\n",
       "  /* fitted */\n",
       "  background-color: var(--sklearn-color-fitted-level-0);\n",
       "}\n",
       "\n",
       "/* on hover */\n",
       "#sk-container-id-2 div.sk-estimator:hover {\n",
       "  /* unfitted */\n",
       "  background-color: var(--sklearn-color-unfitted-level-2);\n",
       "}\n",
       "\n",
       "#sk-container-id-2 div.sk-estimator.fitted:hover {\n",
       "  /* fitted */\n",
       "  background-color: var(--sklearn-color-fitted-level-2);\n",
       "}\n",
       "\n",
       "/* Specification for estimator info (e.g. \"i\" and \"?\") */\n",
       "\n",
       "/* Common style for \"i\" and \"?\" */\n",
       "\n",
       ".sk-estimator-doc-link,\n",
       "a:link.sk-estimator-doc-link,\n",
       "a:visited.sk-estimator-doc-link {\n",
       "  float: right;\n",
       "  font-size: smaller;\n",
       "  line-height: 1em;\n",
       "  font-family: monospace;\n",
       "  background-color: var(--sklearn-color-background);\n",
       "  border-radius: 1em;\n",
       "  height: 1em;\n",
       "  width: 1em;\n",
       "  text-decoration: none !important;\n",
       "  margin-left: 1ex;\n",
       "  /* unfitted */\n",
       "  border: var(--sklearn-color-unfitted-level-1) 1pt solid;\n",
       "  color: var(--sklearn-color-unfitted-level-1);\n",
       "}\n",
       "\n",
       ".sk-estimator-doc-link.fitted,\n",
       "a:link.sk-estimator-doc-link.fitted,\n",
       "a:visited.sk-estimator-doc-link.fitted {\n",
       "  /* fitted */\n",
       "  border: var(--sklearn-color-fitted-level-1) 1pt solid;\n",
       "  color: var(--sklearn-color-fitted-level-1);\n",
       "}\n",
       "\n",
       "/* On hover */\n",
       "div.sk-estimator:hover .sk-estimator-doc-link:hover,\n",
       ".sk-estimator-doc-link:hover,\n",
       "div.sk-label-container:hover .sk-estimator-doc-link:hover,\n",
       ".sk-estimator-doc-link:hover {\n",
       "  /* unfitted */\n",
       "  background-color: var(--sklearn-color-unfitted-level-3);\n",
       "  color: var(--sklearn-color-background);\n",
       "  text-decoration: none;\n",
       "}\n",
       "\n",
       "div.sk-estimator.fitted:hover .sk-estimator-doc-link.fitted:hover,\n",
       ".sk-estimator-doc-link.fitted:hover,\n",
       "div.sk-label-container:hover .sk-estimator-doc-link.fitted:hover,\n",
       ".sk-estimator-doc-link.fitted:hover {\n",
       "  /* fitted */\n",
       "  background-color: var(--sklearn-color-fitted-level-3);\n",
       "  color: var(--sklearn-color-background);\n",
       "  text-decoration: none;\n",
       "}\n",
       "\n",
       "/* Span, style for the box shown on hovering the info icon */\n",
       ".sk-estimator-doc-link span {\n",
       "  display: none;\n",
       "  z-index: 9999;\n",
       "  position: relative;\n",
       "  font-weight: normal;\n",
       "  right: .2ex;\n",
       "  padding: .5ex;\n",
       "  margin: .5ex;\n",
       "  width: min-content;\n",
       "  min-width: 20ex;\n",
       "  max-width: 50ex;\n",
       "  color: var(--sklearn-color-text);\n",
       "  box-shadow: 2pt 2pt 4pt #999;\n",
       "  /* unfitted */\n",
       "  background: var(--sklearn-color-unfitted-level-0);\n",
       "  border: .5pt solid var(--sklearn-color-unfitted-level-3);\n",
       "}\n",
       "\n",
       ".sk-estimator-doc-link.fitted span {\n",
       "  /* fitted */\n",
       "  background: var(--sklearn-color-fitted-level-0);\n",
       "  border: var(--sklearn-color-fitted-level-3);\n",
       "}\n",
       "\n",
       ".sk-estimator-doc-link:hover span {\n",
       "  display: block;\n",
       "}\n",
       "\n",
       "/* \"?\"-specific style due to the `<a>` HTML tag */\n",
       "\n",
       "#sk-container-id-2 a.estimator_doc_link {\n",
       "  float: right;\n",
       "  font-size: 1rem;\n",
       "  line-height: 1em;\n",
       "  font-family: monospace;\n",
       "  background-color: var(--sklearn-color-background);\n",
       "  border-radius: 1rem;\n",
       "  height: 1rem;\n",
       "  width: 1rem;\n",
       "  text-decoration: none;\n",
       "  /* unfitted */\n",
       "  color: var(--sklearn-color-unfitted-level-1);\n",
       "  border: var(--sklearn-color-unfitted-level-1) 1pt solid;\n",
       "}\n",
       "\n",
       "#sk-container-id-2 a.estimator_doc_link.fitted {\n",
       "  /* fitted */\n",
       "  border: var(--sklearn-color-fitted-level-1) 1pt solid;\n",
       "  color: var(--sklearn-color-fitted-level-1);\n",
       "}\n",
       "\n",
       "/* On hover */\n",
       "#sk-container-id-2 a.estimator_doc_link:hover {\n",
       "  /* unfitted */\n",
       "  background-color: var(--sklearn-color-unfitted-level-3);\n",
       "  color: var(--sklearn-color-background);\n",
       "  text-decoration: none;\n",
       "}\n",
       "\n",
       "#sk-container-id-2 a.estimator_doc_link.fitted:hover {\n",
       "  /* fitted */\n",
       "  background-color: var(--sklearn-color-fitted-level-3);\n",
       "}\n",
       "</style><div id=\"sk-container-id-2\" class=\"sk-top-container\"><div class=\"sk-text-repr-fallback\"><pre>RandomForestClassifier(random_state=42)</pre><b>In a Jupyter environment, please rerun this cell to show the HTML representation or trust the notebook. <br />On GitHub, the HTML representation is unable to render, please try loading this page with nbviewer.org.</b></div><div class=\"sk-container\" hidden><div class=\"sk-item\"><div class=\"sk-estimator fitted sk-toggleable\"><input class=\"sk-toggleable__control sk-hidden--visually\" id=\"sk-estimator-id-2\" type=\"checkbox\" checked><label for=\"sk-estimator-id-2\" class=\"sk-toggleable__label fitted sk-toggleable__label-arrow fitted\">&nbsp;&nbsp;RandomForestClassifier<a class=\"sk-estimator-doc-link fitted\" rel=\"noreferrer\" target=\"_blank\" href=\"https://scikit-learn.org/1.4/modules/generated/sklearn.ensemble.RandomForestClassifier.html\">?<span>Documentation for RandomForestClassifier</span></a><span class=\"sk-estimator-doc-link fitted\">i<span>Fitted</span></span></label><div class=\"sk-toggleable__content fitted\"><pre>RandomForestClassifier(random_state=42)</pre></div> </div></div></div></div>"
      ],
      "text/plain": [
       "RandomForestClassifier(random_state=42)"
      ]
     },
     "execution_count": 31,
     "metadata": {},
     "output_type": "execute_result"
    }
   ],
   "source": [
    "# Train-Test Split + Model Training\n",
    "from sklearn.model_selection import train_test_split\n",
    "from sklearn.ensemble import RandomForestClassifier\n",
    "\n",
    "X_train, X_test, y_train, y_test = train_test_split(X, y, test_size=0.2, random_state=42)\n",
    "\n",
    "model = RandomForestClassifier(n_estimators=100, random_state=42)\n",
    "model.fit(X_train, y_train)"
   ]
  },
  {
   "cell_type": "code",
   "execution_count": 32,
   "id": "ecbe2db7-2fbf-489c-b314-daff6196ff2d",
   "metadata": {},
   "outputs": [
    {
     "name": "stdout",
     "output_type": "stream",
     "text": [
      "Accuracy: 0.9455388624865859\n",
      "              precision    recall  f1-score   support\n",
      "\n",
      "           0       0.95      0.99      0.97     49632\n",
      "           1       0.17      0.03      0.05      2552\n",
      "\n",
      "    accuracy                           0.95     52184\n",
      "   macro avg       0.56      0.51      0.51     52184\n",
      "weighted avg       0.91      0.95      0.93     52184\n",
      "\n"
     ]
    }
   ],
   "source": [
    "#Evaluating\n",
    "from sklearn.metrics import accuracy_score, classification_report\n",
    "\n",
    "y_pred = model.predict(X_test)\n",
    "print(\"Accuracy:\", accuracy_score(y_test, y_pred))\n",
    "print(classification_report(y_test, y_pred))"
   ]
  },
  {
   "cell_type": "markdown",
   "id": "43ac461c-9a63-4c3e-8d5c-c8a2defb478e",
   "metadata": {},
   "source": [
    "9.\tCreate a model to predict the next ball’s runs (0, 1, 2, 4, 6). \n",
    "Which model performs best: Random Forest, Logistic Regression, or Gradient Boosting?"
   ]
  },
  {
   "cell_type": "code",
   "execution_count": 33,
   "id": "7704c02b-0ea8-4cb7-8b3f-857fbdeb6f67",
   "metadata": {},
   "outputs": [],
   "source": [
    "import pandas as pd\n",
    "\n",
    "# Filtering only the rows where batsman_runs are 0, 1, 2, 4, or 6\n",
    "df_runs = df[df['batsman_runs'].isin([0, 1, 2, 4, 6])].copy()\n",
    "\n",
    "# Selecting features and target\n",
    "df_model = df_runs[['over', 'ball', 'batsman_runs', 'batter', 'bowler', 'batting_team', 'bowling_team']]"
   ]
  },
  {
   "cell_type": "code",
   "execution_count": 34,
   "id": "0f2645c2-f983-4a95-a89e-7fa8666bb6c0",
   "metadata": {},
   "outputs": [],
   "source": [
    "# One-hot encode the categorical variables\n",
    "X = pd.get_dummies(df_model.drop('batsman_runs', axis=1), drop_first=True)\n",
    "y = df_model['batsman_runs']"
   ]
  },
  {
   "cell_type": "code",
   "execution_count": 35,
   "id": "15562232-da5c-44b4-8d18-e542d9f8fbb4",
   "metadata": {},
   "outputs": [],
   "source": [
    "# Train-Test Split\n",
    "from sklearn.model_selection import train_test_split\n",
    "\n",
    "X_train, X_test, y_train, y_test = train_test_split(X, y, test_size=0.2, random_state=42)"
   ]
  },
  {
   "cell_type": "code",
   "execution_count": 36,
   "id": "c0005c74-416c-4d33-bdb5-0c2b9b5112a5",
   "metadata": {},
   "outputs": [
    {
     "name": "stdout",
     "output_type": "stream",
     "text": [
      "Random Forest:\n",
      "               precision    recall  f1-score   support\n",
      "\n",
      "           0       0.44      0.51      0.48     20853\n",
      "           1       0.44      0.40      0.42     19237\n",
      "           2       0.09      0.08      0.08      3271\n",
      "           4       0.14      0.12      0.13      5989\n",
      "           6       0.11      0.09      0.10      2665\n",
      "\n",
      "    accuracy                           0.38     52015\n",
      "   macro avg       0.24      0.24      0.24     52015\n",
      "weighted avg       0.37      0.38      0.37     52015\n",
      "\n"
     ]
    }
   ],
   "source": [
    "# Trying Different Models\n",
    "#🔹 Random Forest\n",
    "from sklearn.ensemble import RandomForestClassifier\n",
    "from sklearn.metrics import classification_report\n",
    "\n",
    "rf = RandomForestClassifier(random_state=42)\n",
    "rf.fit(X_train, y_train)\n",
    "y_pred_rf = rf.predict(X_test)\n",
    "print(\"Random Forest:\\n\", classification_report(y_test, y_pred_rf))"
   ]
  },
  {
   "cell_type": "code",
   "execution_count": null,
   "id": "4969578e-778f-494e-a18b-3877df0618e6",
   "metadata": {},
   "outputs": [],
   "source": [
    "#🔹 Logistic Regression \n",
    "from sklearn.linear_model import LogisticRegression\n",
    "from sklearn.preprocessing import StandardScaler\n",
    "from sklearn.metrics import classification_report\n",
    "\n",
    "# Scaling data for Logistic Regression\n",
    "scaler = StandardScaler()\n",
    "X_train_scaled = scaler.fit_transform(X_train)\n",
    "X_test_scaled = scaler.transform(X_test)\n",
    "\n",
    "lr = LogisticRegression(max_iter=1000, solver='saga', n_jobs=-1)\n",
    "lr.fit(X_train_scaled, y_train)\n",
    "y_pred_lr = lr.predict(X_test_scaled)\n",
    "\n",
    "print(\"Logistic Regression:\\n\", classification_report(y_test, y_pred_lr))"
   ]
  },
  {
   "cell_type": "code",
   "execution_count": null,
   "id": "d9d748b2-3e7a-4c1f-b2d2-268933d79144",
   "metadata": {},
   "outputs": [],
   "source": [
    "#🔹 Gradient Boosting\n",
    "from sklearn.ensemble import GradientBoostingClassifier\n",
    "from sklearn.metrics import classification_report\n",
    "\n",
    "gb = GradientBoostingClassifier(random_state=42)\n",
    "gb.fit(X_train, y_train)\n",
    "y_pred_gb = gb.predict(X_test)\n",
    "\n",
    "print(\"Gradient Boosting:\\n\", classification_report(y_test, y_pred_gb))"
   ]
  },
  {
   "cell_type": "code",
   "execution_count": null,
   "id": "25866310-3424-4f76-bcba-719aab7b846a",
   "metadata": {},
   "outputs": [],
   "source": [
    "# Comparing Model Performance\n",
    "from sklearn.metrics import accuracy_score, f1_score\n",
    "\n",
    "# Accuracy\n",
    "print(\"Random Forest Accuracy:\", accuracy_score(y_test, y_pred_rf))\n",
    "print(\"Logistic Regression Accuracy:\", accuracy_score(y_test, y_pred_lr))\n",
    "print(\"Gradient Boosting Accuracy:\", accuracy_score(y_test, y_pred_gb))\n",
    "\n",
    "# F1-score (weighted to handle class imbalance)\n",
    "print(\"\\nF1 Scores (weighted):\")\n",
    "print(\"Random Forest:\", f1_score(y_test, y_pred_rf, average='weighted'))\n",
    "print(\"Logistic Regression:\", f1_score(y_test, y_pred_lr, average='weighted'))\n",
    "print(\"Gradient Boosting:\", f1_score(y_test, y_pred_gb, average='weighted'))"
   ]
  },
  {
   "cell_type": "code",
   "execution_count": null,
   "id": "f357dc03-32e5-4d12-9adf-1ff36190ea40",
   "metadata": {},
   "outputs": [],
   "source": [
    "#Confusion Matrix \n",
    "from sklearn.metrics import ConfusionMatrixDisplay\n",
    "import matplotlib.pyplot as plt\n",
    "\n",
    "models_preds = {\n",
    "    \"Random Forest\": y_pred_rf,\n",
    "    \"Lgistic Regression\": y_pred_lr,\n",
    "    \"Gradient Boosting\": y_pred_gb\n",
    "}\n",
    "\n",
    "for name, preds in models_preds.items():\n",
    "    print(f\"\\n{name} Confusion Matrix:\")\n",
    "    disp = ConfusionMatrixDisplay.from_predictions(y_test, preds)\n",
    "    plt.title(f\"{name} Confusion Matrix\")\n",
    "    plt.grid(False)\n",
    "    plt.show()"
   ]
  }
 ],
 "metadata": {
  "kernelspec": {
   "display_name": "Python 3 (ipykernel)",
   "language": "python",
   "name": "python3"
  },
  "language_info": {
   "codemirror_mode": {
    "name": "ipython",
    "version": 3
   },
   "file_extension": ".py",
   "mimetype": "text/x-python",
   "name": "python",
   "nbconvert_exporter": "python",
   "pygments_lexer": "ipython3",
   "version": "3.12.4"
  }
 },
 "nbformat": 4,
 "nbformat_minor": 5
}
